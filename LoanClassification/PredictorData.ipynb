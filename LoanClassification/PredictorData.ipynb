{
  "nbformat": 4,
  "nbformat_minor": 0,
  "metadata": {
    "colab": {
      "provenance": []
    },
    "kernelspec": {
      "name": "python3",
      "display_name": "Python 3"
    },
    "language_info": {
      "name": "python"
    }
  },
  "cells": [
    {
      "cell_type": "code",
      "source": [
        "# Importing necessary packages\n",
        "import pandas as pd # python's data handling package\n",
        "import numpy as np # python's scientific computing package\n",
        "import matplotlib.pyplot as plt # python's plotting package\n",
        "from sklearn.metrics import mean_squared_error as mse\n",
        "import random as rd"
      ],
      "metadata": {
        "id": "gXXgL6a_5VVm"
      },
      "execution_count": 48,
      "outputs": []
    },
    {
      "cell_type": "code",
      "execution_count": 52,
      "metadata": {
        "colab": {
          "base_uri": "https://localhost:8080/"
        },
        "id": "nLbK-4Tg5GCC",
        "outputId": "d1c3d186-6d96-4cce-de2e-b4237cf93591"
      },
      "outputs": [
        {
          "output_type": "stream",
          "name": "stdout",
          "text": [
            "      yyyymm        DY  EP ratio       b/m     tbl     dfr     lty      ts  \\\n",
            "0     192612  1.648601 -2.386837  0.441476  0.0307  0.0100  0.0354  0.0047   \n",
            "1     192701  1.641821 -2.374773  0.443706  0.0323  0.0095  0.0351  0.0028   \n",
            "2     192702  1.672224 -2.430353  0.428501  0.0329  0.0092  0.0347  0.0018   \n",
            "3     192703  1.635117 -2.445079  0.469765  0.0320  0.0092  0.0331  0.0011   \n",
            "4     192704  1.638027 -2.471309  0.456754  0.0339  0.0090  0.0333 -0.0006   \n",
            "...      ...       ...       ...       ...     ...     ...     ...     ...   \n",
            "1147  202207  0.532197 -3.076276  0.218187  0.0223  0.0115  0.0290  0.0067   \n",
            "1148  202208  0.451690 -3.042012  0.227429  0.0263  0.0108  0.0290  0.0027   \n",
            "1149  202209  0.501707 -2.953150  0.249478  0.0313  0.0110  0.0352  0.0039   \n",
            "1150  202210  0.607911 -3.055849  0.218935  0.0372  0.0116  0.0398  0.0026   \n",
            "1151  202211  0.539165 -3.134758  0.207182  0.0415  0.0117  0.0389 -0.0026   \n",
            "\n",
            "          ntis      infl       ltr      svar     SP500  \n",
            "0     0.050876  0.000000  0.007800  0.000465 -0.002910  \n",
            "1     0.050824 -0.011299  0.007500  0.000470  0.045522  \n",
            "2     0.051668 -0.005714  0.008800  0.000287  0.007324  \n",
            "3     0.046357 -0.005747  0.025300  0.000924  0.013021  \n",
            "4     0.050514  0.000000 -0.000500  0.000603  0.062353  \n",
            "...        ...       ...       ...       ...       ...  \n",
            "1147 -0.006121 -0.000118  0.026966  0.003188 -0.040305  \n",
            "1148 -0.009732 -0.000354 -0.042089  0.003349 -0.091495  \n",
            "1149 -0.011292  0.002151 -0.076885  0.004934  0.080248  \n",
            "1150 -0.015252  0.004056 -0.013937  0.006504  0.054166  \n",
            "1151 -0.017011 -0.001010  0.026778  0.006343 -0.058784  \n",
            "\n",
            "[1152 rows x 13 columns]\n"
          ]
        },
        {
          "output_type": "stream",
          "name": "stderr",
          "text": [
            "/usr/local/lib/python3.10/dist-packages/openpyxl/worksheet/header_footer.py:48: UserWarning: Cannot parse header or footer so it will be ignored\n",
            "  warn(\"\"\"Cannot parse header or footer so it will be ignored\"\"\")\n"
          ]
        }
      ],
      "source": [
        "data = pd.read_excel('PredictorData2022_1.xlsx', sheet_name='Monthly ')\n",
        "print(data)\n"
      ]
    },
    {
      "cell_type": "code",
      "source": [
        "# print summary statistics for train data\n",
        "print(\"\\nSummary statistics\\n\", data.describe())\n"
      ],
      "metadata": {
        "colab": {
          "base_uri": "https://localhost:8080/"
        },
        "id": "0M4UhQ0X6Mt5",
        "outputId": "fde60f83-1d36-4ce3-c406-52fe38a1fb47"
      },
      "execution_count": 53,
      "outputs": [
        {
          "output_type": "stream",
          "name": "stdout",
          "text": [
            "\n",
            "Summary statistics\n",
            "               yyyymm           DY     EP ratio          b/m          tbl  \\\n",
            "count    1152.000000  1152.000000  1152.000000  1152.000000  1152.000000   \n",
            "mean   197448.166667     1.201447    -2.761218     0.552159     0.032931   \n",
            "std      2772.457959     0.474459     0.420533     0.268291     0.030649   \n",
            "min    192612.000000     0.074276    -4.836478     0.120510     0.000100   \n",
            "25%    195011.750000     0.767390    -2.986049     0.323772     0.003800   \n",
            "50%    197411.500000     1.238974    -2.810399     0.529101     0.027750   \n",
            "75%    199811.250000     1.565990    -2.481701     0.738709     0.050700   \n",
            "max    202211.000000     2.692266    -1.774952     2.028478     0.163000   \n",
            "\n",
            "               dfr          lty           ts         ntis         infl  \\\n",
            "count  1152.000000  1152.000000  1152.000000  1152.000000  1152.000000   \n",
            "mean      0.011160     0.049656     0.016725     0.015991     0.002467   \n",
            "std       0.006781     0.028082     0.012924     0.025712     0.005266   \n",
            "min       0.003200     0.006200    -0.036500    -0.055954    -0.020548   \n",
            "25%       0.007000     0.027400     0.008200     0.003618     0.000000   \n",
            "50%       0.009000     0.041000     0.017050     0.015954     0.002419   \n",
            "75%       0.013025     0.067325     0.025700     0.027028     0.005081   \n",
            "max       0.056400     0.148200     0.045500     0.177040     0.058824   \n",
            "\n",
            "               ltr         svar        SP500  \n",
            "count  1152.000000  1152.000000  1152.000000  \n",
            "mean      0.004489     0.002916     0.009402  \n",
            "std       0.024952     0.005998     0.054350  \n",
            "min      -0.112400     0.000072    -0.287461  \n",
            "25%      -0.007625     0.000695    -0.016868  \n",
            "50%       0.003000     0.001269     0.012913  \n",
            "75%       0.016100     0.002491     0.038927  \n",
            "max       0.152300     0.073153     0.414312  \n"
          ]
        }
      ]
    },
    {
      "cell_type": "code",
      "source": [
        "correl=data.drop('yyyymm',axis=1)\n",
        "print(\"\\nCorrelation matrix\\n\", correl.corr())"
      ],
      "metadata": {
        "colab": {
          "base_uri": "https://localhost:8080/"
        },
        "id": "EDdZ4qmxnMf_",
        "outputId": "292a3cd1-203f-4992-cbc7-e848a33f243a"
      },
      "execution_count": 54,
      "outputs": [
        {
          "output_type": "stream",
          "name": "stdout",
          "text": [
            "\n",
            "Correlation matrix\n",
            "                 DY  EP ratio       b/m       tbl       dfr       lty  \\\n",
            "DY        1.000000  0.734733  0.850224  0.041209  0.400134  0.006940   \n",
            "EP ratio  0.734733  1.000000  0.719272  0.280452  0.043944  0.189461   \n",
            "b/m       0.850224  0.719272  1.000000  0.199496  0.470278  0.193948   \n",
            "tbl       0.041209  0.280452  0.199496  1.000000 -0.060586  0.906788   \n",
            "dfr       0.400134  0.043944  0.470278 -0.060586  1.000000  0.066711   \n",
            "lty       0.006940  0.189461  0.193948  0.906788  0.066711  1.000000   \n",
            "ts       -0.082645 -0.253404 -0.051676 -0.401138  0.288621  0.022434   \n",
            "ntis      0.232634  0.155185  0.032674  0.032532 -0.180011 -0.062641   \n",
            "infl     -0.029414  0.141609  0.079271  0.247157 -0.237192  0.215544   \n",
            "ltr       0.009216  0.011865  0.009857  0.054066  0.073447  0.056430   \n",
            "svar      0.137812 -0.087809  0.168351 -0.151910  0.535255 -0.104896   \n",
            "SP500     0.064956  0.069032  0.089275 -0.011431  0.047665 -0.002427   \n",
            "\n",
            "                ts      ntis      infl       ltr      svar     SP500  \n",
            "DY       -0.082645  0.232634 -0.029414  0.009216  0.137812  0.064956  \n",
            "EP ratio -0.253404  0.155185  0.141609  0.011865 -0.087809  0.069032  \n",
            "b/m      -0.051676  0.032674  0.079271  0.009857  0.168351  0.089275  \n",
            "tbl      -0.401138  0.032532  0.247157  0.054066 -0.151910 -0.011431  \n",
            "dfr       0.288621 -0.180011 -0.237192  0.073447  0.535255  0.047665  \n",
            "lty       0.022434 -0.062641  0.215544  0.056430 -0.104896 -0.002427  \n",
            "ts        1.000000 -0.213252 -0.117775 -0.005601  0.132321  0.021834  \n",
            "ntis     -0.213252  1.000000 -0.056484 -0.046404 -0.039295 -0.064568  \n",
            "infl     -0.117775 -0.056484  1.000000 -0.102509 -0.204887 -0.037480  \n",
            "ltr      -0.005601 -0.046404 -0.102509  1.000000  0.092890  0.049146  \n",
            "svar      0.132321 -0.039295 -0.204887  0.092890  1.000000  0.006938  \n",
            "SP500     0.021834 -0.064568 -0.037480  0.049146  0.006938  1.000000  \n"
          ]
        }
      ]
    },
    {
      "cell_type": "code",
      "source": [
        "train = data.iloc[1:700]\n",
        "val = data.iloc[700:1000]\n",
        "test=data.iloc[1000:1153]"
      ],
      "metadata": {
        "id": "WnUXqQiW6YMn"
      },
      "execution_count": 55,
      "outputs": []
    },
    {
      "cell_type": "code",
      "source": [
        "# Creating the \"X\" and \"y\" variables. We drop SP500 from \"X\"\n",
        "X_train, X_val,X_test = train.drop(['SP500', 'yyyymm','b/m','tbl'], axis=1), val.drop(['SP500', 'yyyymm','b/m','tbl'], axis=1), test.drop(['SP500', 'yyyymm','b/m','tbl'], axis=1)\n",
        "y_train, y_val,y_test = train[['SP500']], val[['SP500']], test[['SP500']]"
      ],
      "metadata": {
        "id": "1zmrtSPc6ZrS"
      },
      "execution_count": 56,
      "outputs": []
    },
    {
      "cell_type": "code",
      "source": [
        "# We have to scale our data in order to continue with our Ridge Regression!\n",
        "# Scale data using the mean and standard deviation of the training set.\n",
        "# This is not necessary for the simple logistic regression we will do here\n",
        "# but should be done if L1 or L2 regrularization is carried out\n",
        "X_test=(X_test-X_train.mean())/X_train.std()\n",
        "X_val=(X_val-X_train.mean())/X_train.std()\n",
        "X_train=(X_train-X_train.mean())/X_train.std()"
      ],
      "metadata": {
        "id": "SzghknYV7fEu"
      },
      "execution_count": 75,
      "outputs": []
    },
    {
      "cell_type": "code",
      "source": [
        "# The alpha used by Python's ridge should be the lambda times the number of observations\n",
        "alphas=[0.001*699,0.01*699, 0.02*699, 0.03*699, 0.04*699, 0.05*699, 0.075*699,0.1*699,0.2*699, 0.4*699]"
      ],
      "metadata": {
        "id": "ljWPmXBy7iya"
      },
      "execution_count": 76,
      "outputs": []
    },
    {
      "cell_type": "code",
      "source": [
        "# Importing Ridge\n",
        "from sklearn.linear_model import Ridge\n",
        "mses=[]\n",
        "for alpha in alphas:\n",
        "    ridge=Ridge(alpha=alpha)\n",
        "    ridge.fit(X_train,y_train)\n",
        "    pred=ridge.predict(X_val)\n",
        "    mses.append(mse(y_val,pred))\n",
        "    print(mse(y_val,pred))"
      ],
      "metadata": {
        "colab": {
          "base_uri": "https://localhost:8080/"
        },
        "id": "MyTHg8ND7j9u",
        "outputId": "2aab9087-955b-4160-ad98-d667a24da81c"
      },
      "execution_count": 77,
      "outputs": [
        {
          "output_type": "stream",
          "name": "stdout",
          "text": [
            "0.002183361066367518\n",
            "0.002169573316575531\n",
            "0.0021584650902566073\n",
            "0.0021501465955567887\n",
            "0.0021436467391760766\n",
            "0.0021383870402391343\n",
            "0.00212858490001543\n",
            "0.0021215313330266265\n",
            "0.002103834765571236\n",
            "0.002083804426677365\n"
          ]
        }
      ]
    },
    {
      "cell_type": "code",
      "source": [
        "###choosing alpha using k-fold cross validation\n",
        "from sklearn.linear_model import RidgeCV\n",
        "regr_cv= RidgeCV(alphas=alphas, fit_intercept=True, cv=10)\n",
        "model_cv2=regr_cv.fit(X_train,y_train)\n",
        "model_cv2.alpha_"
      ],
      "metadata": {
        "colab": {
          "base_uri": "https://localhost:8080/"
        },
        "id": "agSxwKBL7s_N",
        "outputId": "caa6822f-6f6c-4373-db75-b5ceedf474c9"
      },
      "execution_count": 78,
      "outputs": [
        {
          "output_type": "execute_result",
          "data": {
            "text/plain": [
              "279.6"
            ]
          },
          "metadata": {},
          "execution_count": 78
        }
      ]
    },
    {
      "cell_type": "code",
      "source": [
        "# MSE at the training dataset\n",
        "# MSE at the validation dataset\n",
        "#we have to divide the mse of the training and the validation set with the number of observations that we used in each set\n",
        "#in order to be comparable\n",
        "ridge=Ridge(alpha=model_cv2.alpha_)\n",
        "ridge.fit(X_train,y_train)\n",
        "pred=ridge.predict(X_train)\n",
        "print(mse(y_train,pred))"
      ],
      "metadata": {
        "colab": {
          "base_uri": "https://localhost:8080/"
        },
        "id": "zrnhgwtJ8M3O",
        "outputId": "200ea6c7-88b7-43ff-927b-fb013c67ebcb"
      },
      "execution_count": 79,
      "outputs": [
        {
          "output_type": "stream",
          "name": "stdout",
          "text": [
            "0.00350566604004008\n"
          ]
        }
      ]
    },
    {
      "cell_type": "code",
      "source": [
        "# MSE at the validation dataset\n",
        "# MSE at the validation dataset\n",
        "#we have to divide the mse of the training and the validation set with the number of observations that we used in each set\n",
        "#in order to be comparable\n",
        "ridge=Ridge(alpha=model_cv2.alpha_)\n",
        "ridge.fit(X_train,y_train)\n",
        "pred=ridge.predict(X_val)\n",
        "print(mse(y_val,pred))"
      ],
      "metadata": {
        "colab": {
          "base_uri": "https://localhost:8080/"
        },
        "id": "m3_-8dfg8PLR",
        "outputId": "a447c33a-2105-4692-ce9b-9bb545e24543"
      },
      "execution_count": 80,
      "outputs": [
        {
          "output_type": "stream",
          "name": "stdout",
          "text": [
            "0.002083804426677365\n"
          ]
        }
      ]
    },
    {
      "cell_type": "code",
      "source": [
        "# MSE at the test dataset\n",
        "# MSE at the test dataset\n",
        "#we have to divide the mse of the training and the validation set with the number of observations that we used in each set\n",
        "#in order to be comparable\n",
        "ridge=Ridge(alpha=model_cv2.alpha_)\n",
        "ridge.fit(X_train,y_train)\n",
        "pred=ridge.predict(X_test)\n",
        "print(mse(y_test,pred))"
      ],
      "metadata": {
        "colab": {
          "base_uri": "https://localhost:8080/"
        },
        "id": "g402LBD48Rbv",
        "outputId": "094079ad-573b-49ed-e284-fbfdef5ce0da"
      },
      "execution_count": 81,
      "outputs": [
        {
          "output_type": "stream",
          "name": "stdout",
          "text": [
            "0.0018441201074370181\n"
          ]
        }
      ]
    },
    {
      "cell_type": "code",
      "source": [
        "print('R squared training set', round(ridge.score(X_train, y_train)*100, 2))\n",
        "print('R squared test set', round(ridge.score(X_test, y_test)*100, 2))"
      ],
      "metadata": {
        "colab": {
          "base_uri": "https://localhost:8080/"
        },
        "id": "VVU0FijkInGP",
        "outputId": "adf159ce-a6c1-43dd-e861-15b6d6e4dc6e"
      },
      "execution_count": 102,
      "outputs": [
        {
          "output_type": "stream",
          "name": "stdout",
          "text": [
            "R squared training set 2.48\n",
            "R squared test set -0.22\n"
          ]
        }
      ]
    },
    {
      "cell_type": "code",
      "source": [
        "plt.xlabel('lamda')\n",
        "plt.ylabel('mse')\n",
        "lamdas = [i/700 for i in alphas]\n",
        "plt.plot(lamdas, mses)\n"
      ],
      "metadata": {
        "id": "0nJDzbbN8fyS",
        "colab": {
          "base_uri": "https://localhost:8080/",
          "height": 466
        },
        "outputId": "a932729c-a35b-436e-e4cf-c468585a8e5a"
      },
      "execution_count": 82,
      "outputs": [
        {
          "output_type": "execute_result",
          "data": {
            "text/plain": [
              "[<matplotlib.lines.Line2D at 0x7b83112bc100>]"
            ]
          },
          "metadata": {},
          "execution_count": 82
        },
        {
          "output_type": "display_data",
          "data": {
            "text/plain": [
              "<Figure size 640x480 with 1 Axes>"
            ],
            "image/png": "[encoded data removed]"
          },
          "metadata": {}
        }
      ]
    },
    {
      "cell_type": "code",
      "source": [
        "from sklearn.linear_model import RidgeCV\n",
        "regr_cv= RidgeCV(alphas=alphas, fit_intercept=True, cv=10)\n",
        "model_cv2=regr_cv.fit(X_train,y_train)\n",
        "model_cv2.alpha_"
      ],
      "metadata": {
        "id": "q0qa8NY58-W2",
        "colab": {
          "base_uri": "https://localhost:8080/"
        },
        "outputId": "58e0ffe0-9313-4c1a-8fa7-84be08345860"
      },
      "execution_count": 83,
      "outputs": [
        {
          "output_type": "execute_result",
          "data": {
            "text/plain": [
              "279.6"
            ]
          },
          "metadata": {},
          "execution_count": 83
        }
      ]
    },
    {
      "cell_type": "code",
      "source": [
        "# Ridge\n",
        "# import model\n",
        "from sklearn.linear_model import Ridge\n",
        "ridge=Ridge(alpha=model_cv2.alpha_)\n",
        "ridge.fit(X_train, y_train)\n",
        "\n",
        "# DataFrame with corresponding feature and its respective coefficients\n",
        "coeffs = pd.DataFrame(\n",
        "    [\n",
        "        ['intercept'] + list(X_train.columns),\n",
        "        list(ridge.intercept_) + list(ridge.coef_[0])\n",
        "    ]\n",
        ").transpose().set_index(0)\n",
        "ridgereg_coefficient = pd.DataFrame()\n",
        "ridgereg_coefficient[\"Features\"] = X_train.columns\n",
        "ridgereg_coefficient['Coef Estimate'] = pd.Series(ridge.coef_[0])\n",
        "ridgereg_coefficient\n",
        "print(ridgereg_coefficient)"
      ],
      "metadata": {
        "id": "pWLA8WR39CAj",
        "colab": {
          "base_uri": "https://localhost:8080/"
        },
        "outputId": "94016b06-be5c-49d5-b9f6-94c88b728d36"
      },
      "execution_count": 84,
      "outputs": [
        {
          "output_type": "stream",
          "name": "stdout",
          "text": [
            "   Features  Coef Estimate\n",
            "0        DY       0.001516\n",
            "1  EP ratio       0.003472\n",
            "2       dfr       0.000724\n",
            "3       lty      -0.001042\n",
            "4        ts       0.000353\n",
            "5      ntis      -0.003920\n",
            "6      infl      -0.002140\n",
            "7       ltr       0.001978\n",
            "8      svar       0.000512\n"
          ]
        }
      ]
    },
    {
      "cell_type": "code",
      "source": [
        "##We can also select alpha based on the cross-validated ridge regression function, LassoCV().\n",
        "##Selecting lambda\n",
        "##Fit Lasso regression through cross validation\n",
        "\n",
        "from sklearn.linear_model import LassoCV\n",
        "regr_cv= LassoCV(alphas = None, cv = 10, max_iter = 100000)\n",
        "model_cv2=regr_cv.fit(X_train,y_train)\n",
        "model_cv2.alpha_"
      ],
      "metadata": {
        "id": "IEF9cKyi9fi6",
        "colab": {
          "base_uri": "https://localhost:8080/"
        },
        "outputId": "f0777e11-543f-4860-f5ed-b8791adb1706"
      },
      "execution_count": 85,
      "outputs": [
        {
          "output_type": "stream",
          "name": "stderr",
          "text": [
            "/usr/local/lib/python3.10/dist-packages/sklearn/linear_model/_coordinate_descent.py:1568: DataConversionWarning: A column-vector y was passed when a 1d array was expected. Please change the shape of y to (n_samples, ), for example using ravel().\n",
            "  y = column_or_1d(y, warn=True)\n"
          ]
        },
        {
          "output_type": "execute_result",
          "data": {
            "text/plain": [
              "0.006375847564339137"
            ]
          },
          "metadata": {},
          "execution_count": 85
        }
      ]
    },
    {
      "cell_type": "code",
      "source": [
        "# We now consider different lambda values. The alphas are half the lambdas\n",
        "alphas=[0.01/2, 0.02/2, 0.03/2, 0.04/2, 0.05/2, 0.075/2, 0.1/2]\n",
        "mses=[]\n",
        "for alpha in alphas:\n",
        "    lasso=Lasso(alpha=alpha)\n",
        "    lasso.fit(X_train,y_train)\n",
        "    pred=lasso.predict(X_val)\n",
        "    mses.append(mse(y_val,pred))\n",
        "    print(mse(y_val, pred))"
      ],
      "metadata": {
        "colab": {
          "base_uri": "https://localhost:8080/"
        },
        "id": "MngqQb5Dsa-0",
        "outputId": "3cc5094a-329c-4389-b9c6-7f4fadf29eef"
      },
      "execution_count": 86,
      "outputs": [
        {
          "output_type": "stream",
          "name": "stdout",
          "text": [
            "0.0020195333663287516\n",
            "0.0020238421453398514\n",
            "0.0020238421453398514\n",
            "0.0020238421453398514\n",
            "0.0020238421453398514\n",
            "0.0020238421453398514\n",
            "0.0020238421453398514\n"
          ]
        }
      ]
    },
    {
      "cell_type": "code",
      "source": [
        "lasso = Lasso(alpha=model_cv2.alpha_)\n",
        "lasso.fit(X_train, y_train)\n",
        "\n",
        "# DataFrame with corresponding feature and its respective coefficients\n",
        "coeffs = pd.DataFrame(\n",
        "    [\n",
        "        ['intercept'] + list(X_train.columns),\n",
        "        list(lasso.intercept_) + list(lasso.coef_)\n",
        "    ]\n",
        ").transpose().set_index(0)\n",
        "\n",
        "\n",
        "lassoreg_coefficient = pd.DataFrame()\n",
        "lassoreg_coefficient[\"Features\"] = X_train.columns\n",
        "lassoreg_coefficient['Coef Estimate'] = pd.Series(lasso.coef_)\n",
        "lassoreg_coefficient"
      ],
      "metadata": {
        "id": "jxxyo-la9isr",
        "colab": {
          "base_uri": "https://localhost:8080/",
          "height": 331
        },
        "outputId": "dc36a390-ea20-438b-ad9d-04a59fc2a952"
      },
      "execution_count": 87,
      "outputs": [
        {
          "output_type": "execute_result",
          "data": {
            "text/plain": [
              "   Features  Coef Estimate\n",
              "0        DY            0.0\n",
              "1  EP ratio            0.0\n",
              "2       dfr            0.0\n",
              "3       lty           -0.0\n",
              "4        ts            0.0\n",
              "5      ntis           -0.0\n",
              "6      infl           -0.0\n",
              "7       ltr            0.0\n",
              "8      svar            0.0"
            ],
            "text/html": [
              "\n",
              "  <div id=\"df-041c28df-971f-41ed-ab35-8bff382b84e2\" class=\"colab-df-container\">\n",
              "    <div>\n",
              "<style scoped>\n",
              "    .dataframe tbody tr th:only-of-type {\n",
              "        vertical-align: middle;\n",
              "    }\n",
              "\n",
              "    .dataframe tbody tr th {\n",
              "        vertical-align: top;\n",
              "    }\n",
              "\n",
              "    .dataframe thead th {\n",
              "        text-align: right;\n",
              "    }\n",
              "</style>\n",
              "<table border=\"1\" class=\"dataframe\">\n",
              "  <thead>\n",
              "    <tr style=\"text-align: right;\">\n",
              "      <th></th>\n",
              "      <th>Features</th>\n",
              "      <th>Coef Estimate</th>\n",
              "    </tr>\n",
              "  </thead>\n",
              "  <tbody>\n",
              "    <tr>\n",
              "      <th>0</th>\n",
              "      <td>DY</td>\n",
              "      <td>0.0</td>\n",
              "    </tr>\n",
              "    <tr>\n",
              "      <th>1</th>\n",
              "      <td>EP ratio</td>\n",
              "      <td>0.0</td>\n",
              "    </tr>\n",
              "    <tr>\n",
              "      <th>2</th>\n",
              "      <td>dfr</td>\n",
              "      <td>0.0</td>\n",
              "    </tr>\n",
              "    <tr>\n",
              "      <th>3</th>\n",
              "      <td>lty</td>\n",
              "      <td>-0.0</td>\n",
              "    </tr>\n",
              "    <tr>\n",
              "      <th>4</th>\n",
              "      <td>ts</td>\n",
              "      <td>0.0</td>\n",
              "    </tr>\n",
              "    <tr>\n",
              "      <th>5</th>\n",
              "      <td>ntis</td>\n",
              "      <td>-0.0</td>\n",
              "    </tr>\n",
              "    <tr>\n",
              "      <th>6</th>\n",
              "      <td>infl</td>\n",
              "      <td>-0.0</td>\n",
              "    </tr>\n",
              "    <tr>\n",
              "      <th>7</th>\n",
              "      <td>ltr</td>\n",
              "      <td>0.0</td>\n",
              "    </tr>\n",
              "    <tr>\n",
              "      <th>8</th>\n",
              "      <td>svar</td>\n",
              "      <td>0.0</td>\n",
              "    </tr>\n",
              "  </tbody>\n",
              "</table>\n",
              "</div>\n",
              "    <div class=\"colab-df-buttons\">\n",
              "\n",
              "  <div class=\"colab-df-container\">\n",
              "    <button class=\"colab-df-convert\" onclick=\"convertToInteractive('df-041c28df-971f-41ed-ab35-8bff382b84e2')\"\n",
              "            title=\"Convert this dataframe to an interactive table.\"\n",
              "            style=\"display:none;\">\n",
              "\n",
              "  <svg xmlns=\"http://www.w3.org/2000/svg\" height=\"24px\" viewBox=\"0 -960 960 960\">\n",
              "    <path d=\"M120-120v-720h720v720H120Zm60-500h600v-160H180v160Zm220 220h160v-160H400v160Zm0 220h160v-160H400v160ZM180-400h160v-160H180v160Zm440 0h160v-160H620v160ZM180-180h160v-160H180v160Zm440 0h160v-160H620v160Z\"/>\n",
              "  </svg>\n",
              "    </button>\n",
              "\n",
              "  <style>\n",
              "    .colab-df-container {\n",
              "      display:flex;\n",
              "      gap: 12px;\n",
              "    }\n",
              "\n",
              "    .colab-df-convert {\n",
              "      background-color: #E8F0FE;\n",
              "      border: none;\n",
              "      border-radius: 50%;\n",
              "      cursor: pointer;\n",
              "      display: none;\n",
              "      fill: #1967D2;\n",
              "      height: 32px;\n",
              "      padding: 0 0 0 0;\n",
              "      width: 32px;\n",
              "    }\n",
              "\n",
              "    .colab-df-convert:hover {\n",
              "      background-color: #E2EBFA;\n",
              "      box-shadow: 0px 1px 2px rgba(60, 64, 67, 0.3), 0px 1px 3px 1px rgba(60, 64, 67, 0.15);\n",
              "      fill: #174EA6;\n",
              "    }\n",
              "\n",
              "    .colab-df-buttons div {\n",
              "      margin-bottom: 4px;\n",
              "    }\n",
              "\n",
              "    [theme=dark] .colab-df-convert {\n",
              "      background-color: #3B4455;\n",
              "      fill: #D2E3FC;\n",
              "    }\n",
              "\n",
              "    [theme=dark] .colab-df-convert:hover {\n",
              "      background-color: #434B5C;\n",
              "      box-shadow: 0px 1px 3px 1px rgba(0, 0, 0, 0.15);\n",
              "      filter: drop-shadow(0px 1px 2px rgba(0, 0, 0, 0.3));\n",
              "      fill: #FFFFFF;\n",
              "    }\n",
              "  </style>\n",
              "\n",
              "    <script>\n",
              "      const buttonEl =\n",
              "        document.querySelector('#df-041c28df-971f-41ed-ab35-8bff382b84e2 button.colab-df-convert');\n",
              "      buttonEl.style.display =\n",
              "        google.colab.kernel.accessAllowed ? 'block' : 'none';\n",
              "\n",
              "      async function convertToInteractive(key) {\n",
              "        const element = document.querySelector('#df-041c28df-971f-41ed-ab35-8bff382b84e2');\n",
              "        const dataTable =\n",
              "          await google.colab.kernel.invokeFunction('convertToInteractive',\n",
              "                                                    [key], {});\n",
              "        if (!dataTable) return;\n",
              "\n",
              "        const docLinkHtml = 'Like what you see? Visit the ' +\n",
              "          '<a target=\"_blank\" href=https://colab.research.google.com/notebooks/data_table.ipynb>data table notebook</a>'\n",
              "          + ' to learn more about interactive tables.';\n",
              "        element.innerHTML = '';\n",
              "        dataTable['output_type'] = 'display_data';\n",
              "        await google.colab.output.renderOutput(dataTable, element);\n",
              "        const docLink = document.createElement('div');\n",
              "        docLink.innerHTML = docLinkHtml;\n",
              "        element.appendChild(docLink);\n",
              "      }\n",
              "    </script>\n",
              "  </div>\n",
              "\n",
              "\n",
              "<div id=\"df-82a3982d-fb97-4424-8632-2314b0f1b202\">\n",
              "  <button class=\"colab-df-quickchart\" onclick=\"quickchart('df-82a3982d-fb97-4424-8632-2314b0f1b202')\"\n",
              "            title=\"Suggest charts\"\n",
              "            style=\"display:none;\">\n",
              "\n",
              "<svg xmlns=\"http://www.w3.org/2000/svg\" height=\"24px\"viewBox=\"0 0 24 24\"\n",
              "     width=\"24px\">\n",
              "    <g>\n",
              "        <path d=\"M19 3H5c-1.1 0-2 .9-2 2v14c0 1.1.9 2 2 2h14c1.1 0 2-.9 2-2V5c0-1.1-.9-2-2-2zM9 17H7v-7h2v7zm4 0h-2V7h2v10zm4 0h-2v-4h2v4z\"/>\n",
              "    </g>\n",
              "</svg>\n",
              "  </button>\n",
              "\n",
              "<style>\n",
              "  .colab-df-quickchart {\n",
              "      --bg-color: #E8F0FE;\n",
              "      --fill-color: #1967D2;\n",
              "      --hover-bg-color: #E2EBFA;\n",
              "      --hover-fill-color: #174EA6;\n",
              "      --disabled-fill-color: #AAA;\n",
              "      --disabled-bg-color: #DDD;\n",
              "  }\n",
              "\n",
              "  [theme=dark] .colab-df-quickchart {\n",
              "      --bg-color: #3B4455;\n",
              "      --fill-color: #D2E3FC;\n",
              "      --hover-bg-color: #434B5C;\n",
              "      --hover-fill-color: #FFFFFF;\n",
              "      --disabled-bg-color: #3B4455;\n",
              "      --disabled-fill-color: #666;\n",
              "  }\n",
              "\n",
              "  .colab-df-quickchart {\n",
              "    background-color: var(--bg-color);\n",
              "    border: none;\n",
              "    border-radius: 50%;\n",
              "    cursor: pointer;\n",
              "    display: none;\n",
              "    fill: var(--fill-color);\n",
              "    height: 32px;\n",
              "    padding: 0;\n",
              "    width: 32px;\n",
              "  }\n",
              "\n",
              "  .colab-df-quickchart:hover {\n",
              "    background-color: var(--hover-bg-color);\n",
              "    box-shadow: 0 1px 2px rgba(60, 64, 67, 0.3), 0 1px 3px 1px rgba(60, 64, 67, 0.15);\n",
              "    fill: var(--button-hover-fill-color);\n",
              "  }\n",
              "\n",
              "  .colab-df-quickchart-complete:disabled,\n",
              "  .colab-df-quickchart-complete:disabled:hover {\n",
              "    background-color: var(--disabled-bg-color);\n",
              "    fill: var(--disabled-fill-color);\n",
              "    box-shadow: none;\n",
              "  }\n",
              "\n",
              "  .colab-df-spinner {\n",
              "    border: 2px solid var(--fill-color);\n",
              "    border-color: transparent;\n",
              "    border-bottom-color: var(--fill-color);\n",
              "    animation:\n",
              "      spin 1s steps(1) infinite;\n",
              "  }\n",
              "\n",
              "  @keyframes spin {\n",
              "    0% {\n",
              "      border-color: transparent;\n",
              "      border-bottom-color: var(--fill-color);\n",
              "      border-left-color: var(--fill-color);\n",
              "    }\n",
              "    20% {\n",
              "      border-color: transparent;\n",
              "      border-left-color: var(--fill-color);\n",
              "      border-top-color: var(--fill-color);\n",
              "    }\n",
              "    30% {\n",
              "      border-color: transparent;\n",
              "      border-left-color: var(--fill-color);\n",
              "      border-top-color: var(--fill-color);\n",
              "      border-right-color: var(--fill-color);\n",
              "    }\n",
              "    40% {\n",
              "      border-color: transparent;\n",
              "      border-right-color: var(--fill-color);\n",
              "      border-top-color: var(--fill-color);\n",
              "    }\n",
              "    60% {\n",
              "      border-color: transparent;\n",
              "      border-right-color: var(--fill-color);\n",
              "    }\n",
              "    80% {\n",
              "      border-color: transparent;\n",
              "      border-right-color: var(--fill-color);\n",
              "      border-bottom-color: var(--fill-color);\n",
              "    }\n",
              "    90% {\n",
              "      border-color: transparent;\n",
              "      border-bottom-color: var(--fill-color);\n",
              "    }\n",
              "  }\n",
              "</style>\n",
              "\n",
              "  <script>\n",
              "    async function quickchart(key) {\n",
              "      const quickchartButtonEl =\n",
              "        document.querySelector('#' + key + ' button');\n",
              "      quickchartButtonEl.disabled = true;  // To prevent multiple clicks.\n",
              "      quickchartButtonEl.classList.add('colab-df-spinner');\n",
              "      try {\n",
              "        const charts = await google.colab.kernel.invokeFunction(\n",
              "            'suggestCharts', [key], {});\n",
              "      } catch (error) {\n",
              "        console.error('Error during call to suggestCharts:', error);\n",
              "      }\n",
              "      quickchartButtonEl.classList.remove('colab-df-spinner');\n",
              "      quickchartButtonEl.classList.add('colab-df-quickchart-complete');\n",
              "    }\n",
              "    (() => {\n",
              "      let quickchartButtonEl =\n",
              "        document.querySelector('#df-82a3982d-fb97-4424-8632-2314b0f1b202 button');\n",
              "      quickchartButtonEl.style.display =\n",
              "        google.colab.kernel.accessAllowed ? 'block' : 'none';\n",
              "    })();\n",
              "  </script>\n",
              "</div>\n",
              "    </div>\n",
              "  </div>\n"
            ],
            "application/vnd.google.colaboratory.intrinsic+json": {
              "type": "dataframe",
              "variable_name": "lassoreg_coefficient",
              "summary": "{\n  \"name\": \"lassoreg_coefficient\",\n  \"rows\": 9,\n  \"fields\": [\n    {\n      \"column\": \"Features\",\n      \"properties\": {\n        \"dtype\": \"string\",\n        \"num_unique_values\": 9,\n        \"samples\": [\n          \"ltr\",\n          \"EP ratio\",\n          \"ntis\"\n        ],\n        \"semantic_type\": \"\",\n        \"description\": \"\"\n      }\n    },\n    {\n      \"column\": \"Coef Estimate\",\n      \"properties\": {\n        \"dtype\": \"number\",\n        \"std\": 0.0,\n        \"min\": 0.0,\n        \"max\": 0.0,\n        \"num_unique_values\": 1,\n        \"samples\": [\n          0.0\n        ],\n        \"semantic_type\": \"\",\n        \"description\": \"\"\n      }\n    }\n  ]\n}"
            }
          },
          "metadata": {},
          "execution_count": 87
        }
      ]
    },
    {
      "cell_type": "code",
      "source": [
        "# MSE at the training dataset\n",
        "lasso=Lasso(alpha=model_cv2.alpha_)\n",
        "lasso.fit(X_train,y_train)\n",
        "pred=lasso.predict(X_train)\n",
        "print(mse(y_train,pred))"
      ],
      "metadata": {
        "id": "ldr-Z0oL-gWT",
        "colab": {
          "base_uri": "https://localhost:8080/"
        },
        "outputId": "3579440e-7481-4320-fa50-35f0751d7935"
      },
      "execution_count": 97,
      "outputs": [
        {
          "output_type": "stream",
          "name": "stdout",
          "text": [
            "0.0035948036131544306\n"
          ]
        }
      ]
    },
    {
      "cell_type": "code",
      "source": [
        "# MSE at the validation dataset\n",
        "lasso=Lasso(alpha=model_cv2.alpha_)\n",
        "lasso.fit(X_train,y_train)\n",
        "pred=lasso.predict(X_val)\n",
        "print(mse(y_val,pred))"
      ],
      "metadata": {
        "id": "FgP3e967-cky",
        "colab": {
          "base_uri": "https://localhost:8080/"
        },
        "outputId": "563d2261-7759-4017-863e-ba2760f76c36"
      },
      "execution_count": 98,
      "outputs": [
        {
          "output_type": "stream",
          "name": "stdout",
          "text": [
            "0.0020238421453398514\n"
          ]
        }
      ]
    },
    {
      "cell_type": "code",
      "source": [
        "# MSE at the test dataset\n",
        "lasso=Lasso(alpha=model_cv2.alpha_)\n",
        "lasso.fit(X_train,y_train)\n",
        "pred=lasso.predict(X_test)\n",
        "print(mse(y_test,pred))"
      ],
      "metadata": {
        "id": "3ZoqzSmo-lFC",
        "colab": {
          "base_uri": "https://localhost:8080/"
        },
        "outputId": "d433cbf4-1e9f-4663-d5d3-0b69eddb7e0a"
      },
      "execution_count": 99,
      "outputs": [
        {
          "output_type": "stream",
          "name": "stdout",
          "text": [
            "0.0018415281023263406\n"
          ]
        }
      ]
    }
  ]
}