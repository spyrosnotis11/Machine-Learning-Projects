{
  "nbformat": 4,
  "nbformat_minor": 0,
  "metadata": {
    "colab": {
      "provenance": []
    },
    "kernelspec": {
      "name": "python3",
      "display_name": "Python 3"
    },
    "language_info": {
      "name": "python"
    }
  },
  "cells": [
    {
      "cell_type": "code",
      "execution_count": 45,
      "metadata": {
        "id": "heI0q-yCkqHo"
      },
      "outputs": [],
      "source": [
        "# import packages\n",
        "import warnings\n",
        "warnings.filterwarnings('ignore')\n",
        "\n",
        "import pandas as pd\n",
        "import numpy as np\n",
        "\n",
        "import seaborn as sns\n",
        "import matplotlib.pyplot as plt\n",
        "\n",
        "from sklearn.linear_model import LogisticRegression\n",
        "\n",
        "from sklearn.metrics import accuracy_score, recall_score, precision_score, f1_score\n",
        "from sklearn.metrics import confusion_matrix, classification_report, roc_curve, roc_auc_score\n",
        "from sklearn.metrics import precision_recall_curve, auc, average_precision_score"
      ]
    },
    {
      "cell_type": "code",
      "source": [
        "train = pd.read_excel('lendingclub_traindata.xlsx')\n",
        "validation=pd.read_excel('lendingclub_valdata.xlsx')\n",
        "test = pd.read_excel('lendingclub_testdata.xlsx')\n",
        "\n",
        "# 1 = good, 0 = default\n",
        "\n",
        "#give column names\n",
        "cols = ['home_ownership', 'income', 'dti', 'fico','int_rate','total_acc','loan_status']\n",
        "train.columns = validation.columns=test.columns = cols\n",
        "\n",
        "print(\"Training set\")\n",
        "print(train.head())\n",
        "print(\"Validation set\")\n",
        "print (validation.head())\n",
        "print(\"Test set\")\n",
        "print(test.head())"
      ],
      "metadata": {
        "colab": {
          "base_uri": "https://localhost:8080/"
        },
        "id": "GRvSjQUJlIie",
        "outputId": "f2c08250-0a19-498c-abbe-b2df53a8269e"
      },
      "execution_count": 47,
      "outputs": [
        {
          "output_type": "stream",
          "name": "stdout",
          "text": [
            "Training set\n",
            "   home_ownership    income    dti  fico  int_rate  total_acc  loan_status\n",
            "0               1   44304.0  18.47   690     17.93         20            0\n",
            "1               0   50000.0  29.62   735     11.99         44            1\n",
            "2               0   64400.0  16.68   675     13.67         20            1\n",
            "3               0   38500.0  33.73   660     30.74         17            0\n",
            "4               1  118000.0  26.66   665     12.79         47            1\n",
            "Validation set\n",
            "   home_ownership    income    dti  fico  int_rate  total_acc  loan_status\n",
            "0               0   25000.0  27.60   660     17.27         20            0\n",
            "1               0   50000.0  21.51   715      8.90         23            1\n",
            "2               1  100000.0   8.14   770      7.90         19            1\n",
            "3               0   75000.0   1.76   685     17.57         13            0\n",
            "4               1   78000.0  16.11   680      6.89         33            1\n",
            "Test set\n",
            "   home_ownership    income    dti  fico  int_rate  total_acc  loan_status\n",
            "0               1   52400.0  24.64   665     13.35         30            1\n",
            "1               1  150000.0  17.04   785      9.17         67            1\n",
            "2               1  100000.0  20.92   710     16.29         40            1\n",
            "3               0   97000.0  13.11   705      7.89         35            1\n",
            "4               1  100000.0  24.08   685     16.99         37            0\n"
          ]
        }
      ]
    },
    {
      "cell_type": "code",
      "source": [
        "# print summary statistics for train data\n",
        "print(\"\\nSummary statistics\\n\", train.describe())\n",
        "print(\"\\nCorrelation matrix\\n\", train.corr())"
      ],
      "metadata": {
        "colab": {
          "base_uri": "https://localhost:8080/"
        },
        "id": "xT1IYKLGZxUL",
        "outputId": "14eb1eee-9215-46a8-d937-5b80c9740a04"
      },
      "execution_count": 48,
      "outputs": [
        {
          "output_type": "stream",
          "name": "stdout",
          "text": [
            "\n",
            "Summary statistics\n",
            "        home_ownership        income          dti       fico     int_rate  \\\n",
            "count     7000.000000  7.000000e+03  7000.000000  7000.0000  7000.000000   \n",
            "mean         0.604000  7.452444e+04    17.997951   695.1650    13.538831   \n",
            "std          0.489099  5.433061e+04     8.889530    31.5515     4.662279   \n",
            "min          0.000000  0.000000e+00     0.000000   660.0000     5.320000   \n",
            "25%          0.000000  4.500000e+04    11.767500   670.0000    10.150000   \n",
            "50%          1.000000  6.372500e+04    17.440000   685.0000    13.110000   \n",
            "75%          1.000000  9.000000e+04    23.730000   710.0000    16.290000   \n",
            "max          1.000000  1.500000e+06   244.600000   845.0000    30.990000   \n",
            "\n",
            "         total_acc  loan_status  \n",
            "count  7000.000000  7000.000000  \n",
            "mean     25.290571     0.791714  \n",
            "std      11.888844     0.406111  \n",
            "min       2.000000     0.000000  \n",
            "25%      17.000000     1.000000  \n",
            "50%      24.000000     1.000000  \n",
            "75%      32.000000     1.000000  \n",
            "max     120.000000     1.000000  \n",
            "\n",
            "Correlation matrix\n",
            "                 home_ownership    income       dti      fico  int_rate  \\\n",
            "home_ownership        1.000000  0.178067 -0.010908  0.121495 -0.091196   \n",
            "income                0.178067  1.000000 -0.216369  0.093997 -0.086044   \n",
            "dti                  -0.010908 -0.216369  1.000000 -0.110281  0.183529   \n",
            "fico                  0.121495  0.093997 -0.110281  1.000000 -0.431229   \n",
            "int_rate             -0.091196 -0.086044  0.183529 -0.431229  1.000000   \n",
            "total_acc             0.200537  0.211442  0.234721  0.016590 -0.036512   \n",
            "loan_status           0.077422  0.057636 -0.139207  0.137103 -0.238092   \n",
            "\n",
            "                total_acc  loan_status  \n",
            "home_ownership   0.200537     0.077422  \n",
            "income           0.211442     0.057636  \n",
            "dti              0.234721    -0.139207  \n",
            "fico             0.016590     0.137103  \n",
            "int_rate        -0.036512    -0.238092  \n",
            "total_acc        1.000000     0.003422  \n",
            "loan_status      0.003422     1.000000  \n"
          ]
        }
      ]
    },
    {
      "cell_type": "code",
      "source": [
        "# remove target column to create feature only dataset\n",
        "X_train= np.array( train.drop(['loan_status'],axis= 1))\n",
        "X_val=np.array( validation.drop(['loan_status'],axis= 1))\n",
        "X_test = np.array( test.drop(['loan_status'],axis= 1))\n",
        "\n",
        "\n",
        "# Scale data using the mean and standard deviation of the training set.\n",
        "# This is not necessary for the simple logistic regression we will do here\n",
        "# but should be done if L1 or L2 regrularization is carried out\n",
        "X_test=(X_test-X_train.mean())/X_train.std()\n",
        "X_val=(X_val-X_train.mean())/X_train.std()\n",
        "X_train=(X_train-X_train.mean())/X_train.std()\n",
        "\n",
        "# store target column as y-variables\n",
        "y_train = train['loan_status']\n",
        "y_val=validation['loan_status']\n",
        "y_test = test['loan_status']\n",
        "\n",
        "\n",
        "#print first five instances for each data set - scaled\n",
        "print(\"Scaled data\")\n",
        "print(\"Training set\")\n",
        "print(\"Validation set\")\n",
        "print(\"Test set\")\n",
        "\n",
        "print(X_train.shape, y_train.shape, X_val.shape,y_val.shape, X_test.shape, y_test.shape)"
      ],
      "metadata": {
        "colab": {
          "base_uri": "https://localhost:8080/"
        },
        "id": "VbC_eyIDl53Q",
        "outputId": "262100d7-6a9e-44c8-cc7b-7012601034f3"
      },
      "execution_count": 49,
      "outputs": [
        {
          "output_type": "stream",
          "name": "stdout",
          "text": [
            "Scaled data\n",
            "Training set\n",
            "Validation set\n",
            "Test set\n",
            "(7000, 6) (7000,) (3000, 6) (3000,) (2290, 6) (2290,)\n"
          ]
        }
      ]
    },
    {
      "cell_type": "code",
      "source": [
        "freq = y_train.value_counts()           # count frequency of different classes in training swet\n",
        "freq/sum(freq)*100                      # get percentage of above"
      ],
      "metadata": {
        "colab": {
          "base_uri": "https://localhost:8080/"
        },
        "id": "atuyW6hFoDz1",
        "outputId": "b3e2a870-d7f4-4512-db7e-96174e5785d2"
      },
      "execution_count": 50,
      "outputs": [
        {
          "output_type": "execute_result",
          "data": {
            "text/plain": [
              "loan_status\n",
              "1    79.171429\n",
              "0    20.828571\n",
              "Name: count, dtype: float64"
            ]
          },
          "metadata": {},
          "execution_count": 50
        }
      ]
    },
    {
      "cell_type": "code",
      "source": [
        "#Create an instance of logistic regression named lgstc_reg on scaled data\n",
        "\n",
        "lgstc_reg =  LogisticRegression(penalty=\"none\",solver=\"newton-cg\")\n",
        "\n",
        "# Fit logististic regression to training set\n",
        "\n",
        "lgstc_reg.fit(X_train, y_train)                                        # fit training data on logistic regression\n",
        "\n",
        "\n",
        "print(lgstc_reg.intercept_, lgstc_reg.coef_)                           # get the coefficients of each features"
      ],
      "metadata": {
        "colab": {
          "base_uri": "https://localhost:8080/"
        },
        "id": "hw44oP7zoClz",
        "outputId": "32a8e53a-ad35-40a9-aa1d-f771ddaf91d8"
      },
      "execution_count": 51,
      "outputs": [
        {
          "output_type": "stream",
          "name": "stdout",
          "text": [
            "[1732.41031092] [[ 9.30445267e+03  1.89582972e-02 -1.04288395e+03  1.88914401e+02\n",
            "  -3.61314994e+03  6.61537054e+01]]\n"
          ]
        }
      ]
    },
    {
      "cell_type": "code",
      "source": [
        "# y_train_pred, y_val_pred, and y_test_pred are the predicted probabilities for the training set\n",
        "# validation set and test set using the fitted logistic regression model\n",
        "\n",
        "y_train_pred=lgstc_reg.predict_proba(X_train)\n",
        "y_val_pred=lgstc_reg.predict_proba(X_val)\n",
        "y_test_pred=lgstc_reg.predict_proba(X_test)\n",
        "\n",
        "# Calculate maximum likelihood for training set, validation set, and test set\n",
        "\n",
        "mle_vector_train = np.log(np.where(y_train == 1, y_train_pred[:,1], y_train_pred[:,0])) # if y_train == 1 set y_train_pred[:,1] otherwise set y_train_pred[:,0]\n",
        "mle_vector_val = np.log(np.where(y_val == 1, y_val_pred[:,1], y_val_pred[:,0]))\n",
        "mle_vector_test = np.log(np.where(y_test == 1, y_test_pred[:,1], y_test_pred[:,0]))\n",
        "\n",
        "# Calculate cost functions from maximum likelihoods\n",
        "\n",
        "cost_function_training=np.negative(np.sum(mle_vector_train)/len(y_train))\n",
        "cost_function_val=np.negative(np.sum(mle_vector_val)/len(y_val))\n",
        "cost_function_test=np.negative(np.sum(mle_vector_test)/len(y_test))\n",
        "\n",
        "print('cost function training set =', cost_function_training)\n",
        "print('cost function validation set =', cost_function_val)\n",
        "print('cost function test set =', cost_function_test)"
      ],
      "metadata": {
        "colab": {
          "base_uri": "https://localhost:8080/"
        },
        "id": "VEbc1p0yoF1X",
        "outputId": "6727e72c-abbb-4c94-d023-b639c11a7c44"
      },
      "execution_count": 52,
      "outputs": [
        {
          "output_type": "stream",
          "name": "stdout",
          "text": [
            "cost function training set = 0.4758590927020228\n",
            "cost function validation set = 0.470280574630869\n",
            "cost function test set = 0.4675879900518901\n"
          ]
        }
      ]
    },
    {
      "cell_type": "code",
      "source": [
        "THRESHOLD = [0.00, .75, .80, .85 , 1.00]\n",
        "# Create dataframe to store results\n",
        "results = pd.DataFrame(columns=[\"THRESHOLD\", \"accuracy\", \"true pos rate\", \"true neg rate\", \"false pos rate\", \"precision\", \"f-score\"]) # df to store results\n",
        "\n",
        "# Create threshold row\n",
        "results['THRESHOLD'] = THRESHOLD\n",
        "\n",
        "j = 0\n",
        "\n",
        "# Iterate over the 3 thresholds\n",
        "\n",
        "for i in THRESHOLD:\n",
        "\n",
        "\n",
        "    #lgstc_reg.fit(X_train, y_train)\n",
        "\n",
        "\n",
        "    # If prob for test set > threshold predict 1\n",
        "    preds = np.where(lgstc_reg.predict_proba(X_test)[:,1] > i, 1, 0)\n",
        "\n",
        "\n",
        "    # create confusion matrix\n",
        "    cm = (confusion_matrix(y_test, preds,labels=[1, 0], sample_weight=None) / len(y_test))*100                   # confusion matrix (in percentage)\n",
        "\n",
        "    print('Confusion matrix for threshold =',i)\n",
        "    print(cm)\n",
        "    print(' ')\n",
        "\n",
        "    TP = cm[0][0]                                                                                          # True Positives\n",
        "    FN = cm[0][1]                                                                                          # False Positives\n",
        "    FP = cm[1][0]                                                                                          # True Negatives\n",
        "    TN = cm[1][1]                                                                                          # False Negatives\n",
        "\n",
        "    results.iloc[j,1] = accuracy_score(y_test, preds)\n",
        "    results.iloc[j,2] = recall_score(y_test, preds)\n",
        "    results.iloc[j,3] = TN/(FP+TN)                                                                         # True negative rate\n",
        "    results.iloc[j,4] = FP/(FP+TN)                                                                         # False positive rate\n",
        "    results.iloc[j,5] = precision_score(y_test, preds)\n",
        "    results.iloc[j,6] = f1_score(y_test, preds)\n",
        "\n",
        "\n",
        "    j += 1\n",
        "\n",
        "print('ALL METRICS')\n",
        "print( results.T)"
      ],
      "metadata": {
        "colab": {
          "base_uri": "https://localhost:8080/"
        },
        "id": "QnEL9iSuoNCV",
        "outputId": "d3740920-e1f6-4064-c1ed-68b1738f3bf6"
      },
      "execution_count": 53,
      "outputs": [
        {
          "output_type": "stream",
          "name": "stdout",
          "text": [
            "Confusion matrix for threshold = 0.0\n",
            "[[79.17030568  0.        ]\n",
            " [20.82969432  0.        ]]\n",
            " \n",
            "Confusion matrix for threshold = 0.75\n",
            "[[60.87336245 18.29694323]\n",
            " [10.26200873 10.56768559]]\n",
            " \n",
            "Confusion matrix for threshold = 0.8\n",
            "[[49.38864629 29.78165939]\n",
            " [ 6.68122271 14.14847162]]\n",
            " \n",
            "Confusion matrix for threshold = 0.85\n",
            "[[32.31441048 46.8558952 ]\n",
            " [ 3.40611354 17.42358079]]\n",
            " \n",
            "Confusion matrix for threshold = 1.0\n",
            "[[ 0.         79.17030568]\n",
            " [ 0.         20.82969432]]\n",
            " \n",
            "ALL METRICS\n",
            "                       0         1         2         3         4\n",
            "THRESHOLD            0.0      0.75       0.8      0.85       1.0\n",
            "accuracy        0.791703   0.71441  0.635371   0.49738  0.208297\n",
            "true pos rate        1.0  0.768891  0.623828  0.408163       0.0\n",
            "true neg rate        0.0  0.507338  0.679245  0.836478       1.0\n",
            "false pos rate       1.0  0.492662  0.320755  0.163522       0.0\n",
            "precision       0.791703   0.85574  0.880841  0.904645       0.0\n",
            "f-score         0.883744  0.809994  0.730384  0.562524       0.0\n"
          ]
        }
      ]
    },
    {
      "cell_type": "code",
      "source": [
        "\n",
        "# Calculate the receiver operating curve and the AUC measure\n",
        "\n",
        "lr_prob=lgstc_reg.predict_proba(X_test)\n",
        "lr_prob=lr_prob[:, 1]\n",
        "ns_prob=[0 for _ in range(len(y_test))]\n",
        "ns_auc=roc_auc_score(y_test, ns_prob)\n",
        "lr_auc=roc_auc_score(y_test,lr_prob)\n",
        "print(\"AUC random predictions =\", ns_auc)\n",
        "print(\"AUC predictions from logistic regression model =\", lr_auc)\n",
        "ns_fpr,ns_tpr,_=roc_curve(y_test,ns_prob)\n",
        "lr_fpr,lr_tpr,_=roc_curve(y_test,lr_prob)\n",
        "\n",
        "plt.plot(ns_fpr,ns_tpr,linestyle='--',label='Random Predction')\n",
        "plt.plot(lr_fpr,lr_tpr,marker='.',label='Logistic Regression')\n",
        "\n",
        "plt.xlabel('False Positive Rate')\n",
        "plt.ylabel('True Positive Rate')\n",
        "plt.legend()\n",
        "plt.show()"
      ],
      "metadata": {
        "colab": {
          "base_uri": "https://localhost:8080/",
          "height": 484
        },
        "id": "UBnL0mB_oRGN",
        "outputId": "bcad0656-2caa-4537-fb73-809ff66131da"
      },
      "execution_count": 54,
      "outputs": [
        {
          "output_type": "stream",
          "name": "stdout",
          "text": [
            "AUC random predictions = 0.5\n",
            "AUC predictions from logistic regression model = 0.7029640345004226\n"
          ]
        },
        {
          "output_type": "display_data",
          "data": {
            "text/plain": [
              "<Figure size 640x480 with 1 Axes>"
            ],
            "image/png": "[encoded data removed]"
          },
          "metadata": {}
        }
      ]
    }
  ]
}