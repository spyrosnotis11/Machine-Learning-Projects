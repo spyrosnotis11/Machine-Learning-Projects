{
  "nbformat": 4,
  "nbformat_minor": 0,
  "metadata": {
    "colab": {
      "provenance": []
    },
    "kernelspec": {
      "name": "python3",
      "display_name": "Python 3"
    },
    "language_info": {
      "name": "python"
    }
  },
  "cells": [
    {
      "cell_type": "code",
      "execution_count": null,
      "metadata": {
        "id": "aC8gQCvYlrWR"
      },
      "outputs": [],
      "source": [
        "# loading packages\n",
        "\n",
        "import os\n",
        "\n",
        "import pandas as pd\n",
        "import numpy as np\n",
        "\n",
        "# plotting packages\n",
        "%matplotlib inline\n",
        "from mpl_toolkits.mplot3d import Axes3D\n",
        "import matplotlib.pyplot as plt\n",
        "import matplotlib.cm as cm\n",
        "import matplotlib.colors as clrs\n",
        "\n",
        "# Importing and initializing the PCA class from scikit learn and then fitting the data to the model.\n",
        "from sklearn.decomposition import PCA"
      ]
    },
    {
      "cell_type": "code",
      "source": [
        "# load raw data\n",
        "DATA_FOLDER = './'\n",
        "raw = pd.read_csv(os.path.join(DATA_FOLDER, 'interest rates.csv'))\n",
        "\n",
        "# check the raw data\n",
        "print(\"Size of the dataset (row, col): \", raw.shape)\n",
        "print(\"\\nFirst 5 rows\\n\", raw.head(n=5))"
      ],
      "metadata": {
        "colab": {
          "base_uri": "https://localhost:8080/"
        },
        "id": "lErz53TrmJao",
        "outputId": "3f27811c-0c2e-4593-f867-dea176b57075"
      },
      "execution_count": 7,
      "outputs": [
        {
          "output_type": "stream",
          "name": "stdout",
          "text": [
            "Size of the dataset (row, col):  (10491, 8)\n",
            "\n",
            "First 5 rows\n",
            "        dates     2Y     3Y     5Y     7Y    10Y    30Y  US RET\n",
            "0   1/5/1983 -0.035 -0.025  0.000  0.025  0.030  0.031   0.003\n",
            "1   1/6/1983 -0.018  0.012 -0.008  0.000  0.010  0.024   0.019\n",
            "2   1/7/1983 -0.108 -0.115 -0.072 -0.032 -0.031 -0.006  -0.001\n",
            "3  1/10/1983 -0.035 -0.013 -0.016  0.006  0.005  0.021   0.010\n",
            "4  1/11/1983 -0.036 -0.064 -0.048 -0.051 -0.046 -0.036  -0.006\n"
          ]
        }
      ]
    },
    {
      "cell_type": "code",
      "source": [
        "# print summary statistics\n",
        "print(\"\\nSummary statistics\\n\", raw.describe())"
      ],
      "metadata": {
        "colab": {
          "base_uri": "https://localhost:8080/"
        },
        "id": "e8BUSRY5vo1e",
        "outputId": "33932af3-ef6b-4288-d3c5-a78a6263a58f"
      },
      "execution_count": 26,
      "outputs": [
        {
          "output_type": "stream",
          "name": "stdout",
          "text": [
            "\n",
            "Summary statistics\n",
            "                  2Y            3Y            5Y            7Y           10Y  \\\n",
            "count  10491.000000  10491.000000  10491.000000  10491.000000  10491.000000   \n",
            "mean      -0.000518     -0.000557     -0.000623     -0.000649     -0.000655   \n",
            "std        0.062158      0.063386      0.066112      0.064495      0.062570   \n",
            "min       -0.830000     -0.580000     -0.630000     -0.670000     -0.710000   \n",
            "25%       -0.025000     -0.030000     -0.034000     -0.034000     -0.035000   \n",
            "50%        0.000000      0.000000      0.000000      0.000000      0.000000   \n",
            "75%        0.025000      0.028000      0.032000      0.031000      0.033000   \n",
            "max        0.690000      0.580000      0.680000      0.577000      0.396000   \n",
            "\n",
            "                30Y        US RET  \n",
            "count  10491.000000  10491.000000  \n",
            "mean      -0.000644      0.000397  \n",
            "std        0.055848      0.010998  \n",
            "min       -0.621000     -0.187000  \n",
            "25%       -0.032000     -0.004000  \n",
            "50%        0.000000      0.000000  \n",
            "75%        0.029000      0.005000  \n",
            "max        0.313000      0.112000  \n"
          ]
        }
      ]
    },
    {
      "cell_type": "code",
      "source": [
        "# normalization\n",
        "X = raw[['2Y','3Y', '5Y', '7Y','10Y','30Y']]\n",
        "X = (X - X.mean()) / X.std()\n",
        "print(X.head(5))"
      ],
      "metadata": {
        "colab": {
          "base_uri": "https://localhost:8080/"
        },
        "id": "IUIYqNyRvqq_",
        "outputId": "495f134d-127a-4acb-dc76-c0959d5c28fa"
      },
      "execution_count": 14,
      "outputs": [
        {
          "output_type": "stream",
          "name": "stdout",
          "text": [
            "         2Y        3Y        5Y        7Y       10Y       30Y\n",
            "0 -0.554750 -0.385622  0.009431  0.397687  0.489932  0.566600\n",
            "1 -0.281252  0.198103 -0.111576  0.010059  0.170291  0.441260\n",
            "2 -1.729185 -1.805491 -1.079627 -0.486105 -0.484973 -0.095910\n",
            "3 -0.554750 -0.196306 -0.232582  0.103090  0.090381  0.387543\n",
            "4 -0.570838 -1.000898 -0.716608 -0.780702 -0.724704 -0.633080\n"
          ]
        }
      ]
    },
    {
      "cell_type": "code",
      "source": [
        "print(\"\\nCorrelation matrix\\n\", X.corr())"
      ],
      "metadata": {
        "colab": {
          "base_uri": "https://localhost:8080/"
        },
        "id": "Jzk0Ja7hmWh0",
        "outputId": "e457332b-7145-4f7e-8d89-8da24cf6d0cb"
      },
      "execution_count": 25,
      "outputs": [
        {
          "output_type": "stream",
          "name": "stdout",
          "text": [
            "\n",
            "Correlation matrix\n",
            "            2Y        3Y        5Y        7Y       10Y       30Y\n",
            "2Y   1.000000  0.906279  0.858600  0.760921  0.773135  0.631038\n",
            "3Y   0.906279  1.000000  0.913537  0.828964  0.851215  0.704556\n",
            "5Y   0.858600  0.913537  1.000000  0.873430  0.915338  0.780033\n",
            "7Y   0.760921  0.828964  0.873430  1.000000  0.891952  0.802932\n",
            "10Y  0.773135  0.851215  0.915338  0.891952  1.000000  0.881417\n",
            "30Y  0.631038  0.704556  0.780033  0.802932  0.881417  1.000000\n"
          ]
        }
      ]
    },
    {
      "cell_type": "code",
      "source": [
        "model = PCA(n_components=6).fit(X)\n",
        "model"
      ],
      "metadata": {
        "colab": {
          "base_uri": "https://localhost:8080/",
          "height": 74
        },
        "id": "OdTlGwFtx87P",
        "outputId": "14dd2ce7-99cf-4790-c193-b9eda0081c02"
      },
      "execution_count": 15,
      "outputs": [
        {
          "output_type": "execute_result",
          "data": {
            "text/plain": [
              "PCA(n_components=6)"
            ],
            "text/html": [
              "<style>#sk-container-id-2 {color: black;background-color: white;}#sk-container-id-2 pre{padding: 0;}#sk-container-id-2 div.sk-toggleable {background-color: white;}#sk-container-id-2 label.sk-toggleable__label {cursor: pointer;display: block;width: 100%;margin-bottom: 0;padding: 0.3em;box-sizing: border-box;text-align: center;}#sk-container-id-2 label.sk-toggleable__label-arrow:before {content: \"▸\";float: left;margin-right: 0.25em;color: #696969;}#sk-container-id-2 label.sk-toggleable__label-arrow:hover:before {color: black;}#sk-container-id-2 div.sk-estimator:hover label.sk-toggleable__label-arrow:before {color: black;}#sk-container-id-2 div.sk-toggleable__content {max-height: 0;max-width: 0;overflow: hidden;text-align: left;background-color: #f0f8ff;}#sk-container-id-2 div.sk-toggleable__content pre {margin: 0.2em;color: black;border-radius: 0.25em;background-color: #f0f8ff;}#sk-container-id-2 input.sk-toggleable__control:checked~div.sk-toggleable__content {max-height: 200px;max-width: 100%;overflow: auto;}#sk-container-id-2 input.sk-toggleable__control:checked~label.sk-toggleable__label-arrow:before {content: \"▾\";}#sk-container-id-2 div.sk-estimator input.sk-toggleable__control:checked~label.sk-toggleable__label {background-color: #d4ebff;}#sk-container-id-2 div.sk-label input.sk-toggleable__control:checked~label.sk-toggleable__label {background-color: #d4ebff;}#sk-container-id-2 input.sk-hidden--visually {border: 0;clip: rect(1px 1px 1px 1px);clip: rect(1px, 1px, 1px, 1px);height: 1px;margin: -1px;overflow: hidden;padding: 0;position: absolute;width: 1px;}#sk-container-id-2 div.sk-estimator {font-family: monospace;background-color: #f0f8ff;border: 1px dotted black;border-radius: 0.25em;box-sizing: border-box;margin-bottom: 0.5em;}#sk-container-id-2 div.sk-estimator:hover {background-color: #d4ebff;}#sk-container-id-2 div.sk-parallel-item::after {content: \"\";width: 100%;border-bottom: 1px solid gray;flex-grow: 1;}#sk-container-id-2 div.sk-label:hover label.sk-toggleable__label {background-color: #d4ebff;}#sk-container-id-2 div.sk-serial::before {content: \"\";position: absolute;border-left: 1px solid gray;box-sizing: border-box;top: 0;bottom: 0;left: 50%;z-index: 0;}#sk-container-id-2 div.sk-serial {display: flex;flex-direction: column;align-items: center;background-color: white;padding-right: 0.2em;padding-left: 0.2em;position: relative;}#sk-container-id-2 div.sk-item {position: relative;z-index: 1;}#sk-container-id-2 div.sk-parallel {display: flex;align-items: stretch;justify-content: center;background-color: white;position: relative;}#sk-container-id-2 div.sk-item::before, #sk-container-id-2 div.sk-parallel-item::before {content: \"\";position: absolute;border-left: 1px solid gray;box-sizing: border-box;top: 0;bottom: 0;left: 50%;z-index: -1;}#sk-container-id-2 div.sk-parallel-item {display: flex;flex-direction: column;z-index: 1;position: relative;background-color: white;}#sk-container-id-2 div.sk-parallel-item:first-child::after {align-self: flex-end;width: 50%;}#sk-container-id-2 div.sk-parallel-item:last-child::after {align-self: flex-start;width: 50%;}#sk-container-id-2 div.sk-parallel-item:only-child::after {width: 0;}#sk-container-id-2 div.sk-dashed-wrapped {border: 1px dashed gray;margin: 0 0.4em 0.5em 0.4em;box-sizing: border-box;padding-bottom: 0.4em;background-color: white;}#sk-container-id-2 div.sk-label label {font-family: monospace;font-weight: bold;display: inline-block;line-height: 1.2em;}#sk-container-id-2 div.sk-label-container {text-align: center;}#sk-container-id-2 div.sk-container {/* jupyter's `normalize.less` sets `[hidden] { display: none; }` but bootstrap.min.css set `[hidden] { display: none !important; }` so we also need the `!important` here to be able to override the default hidden behavior on the sphinx rendered scikit-learn.org. See: https://github.com/scikit-learn/scikit-learn/issues/21755 */display: inline-block !important;position: relative;}#sk-container-id-2 div.sk-text-repr-fallback {display: none;}</style><div id=\"sk-container-id-2\" class=\"sk-top-container\"><div class=\"sk-text-repr-fallback\"><pre>PCA(n_components=6)</pre><b>In a Jupyter environment, please rerun this cell to show the HTML representation or trust the notebook. <br />On GitHub, the HTML representation is unable to render, please try loading this page with nbviewer.org.</b></div><div class=\"sk-container\" hidden><div class=\"sk-item\"><div class=\"sk-estimator sk-toggleable\"><input class=\"sk-toggleable__control sk-hidden--visually\" id=\"sk-estimator-id-2\" type=\"checkbox\" checked><label for=\"sk-estimator-id-2\" class=\"sk-toggleable__label sk-toggleable__label-arrow\">PCA</label><div class=\"sk-toggleable__content\"><pre>PCA(n_components=6)</pre></div></div></div></div></div>"
            ]
          },
          "metadata": {},
          "execution_count": 15
        }
      ]
    },
    {
      "cell_type": "code",
      "source": [
        "model.components_"
      ],
      "metadata": {
        "colab": {
          "base_uri": "https://localhost:8080/"
        },
        "id": "TpeIge8ayDYZ",
        "outputId": "fbe518a9-3817-428e-d6cb-084b2905eb6b"
      },
      "execution_count": 16,
      "outputs": [
        {
          "output_type": "execute_result",
          "data": {
            "text/plain": [
              "array([[-0.39237251, -0.41467664, -0.42566495, -0.4107688 , -0.42306187,\n",
              "        -0.38103031],\n",
              "       [-0.5727105 , -0.37556262, -0.11118204,  0.17241876,  0.25871226,\n",
              "         0.64956423],\n",
              "       [ 0.33521178,  0.06082541, -0.08413615, -0.77602578, -0.00436208,\n",
              "         0.5240414 ],\n",
              "       [ 0.49681289, -0.19266175, -0.55796886,  0.44032675, -0.37575402,\n",
              "         0.26391366],\n",
              "       [-0.38416318,  0.80208174, -0.35997547,  0.03721316, -0.2371057 ,\n",
              "         0.14797727],\n",
              "       [-0.10618459, -0.05331606,  0.59871314,  0.06365753, -0.74609476,\n",
              "         0.25829272]])"
            ]
          },
          "metadata": {},
          "execution_count": 16
        }
      ]
    },
    {
      "cell_type": "code",
      "source": [
        "model.explained_variance_ratio_.round(4)"
      ],
      "metadata": {
        "colab": {
          "base_uri": "https://localhost:8080/"
        },
        "id": "DyrtV-kgyMcd",
        "outputId": "587a87b4-bc04-4a7c-9056-3ebea2e36fb3"
      },
      "execution_count": 27,
      "outputs": [
        {
          "output_type": "execute_result",
          "data": {
            "text/plain": [
              "array([0.8554, 0.0778, 0.0273, 0.0182, 0.0121, 0.0092])"
            ]
          },
          "metadata": {},
          "execution_count": 27
        }
      ]
    },
    {
      "cell_type": "code",
      "source": [
        "principalComponents = model.fit_transform(X)"
      ],
      "metadata": {
        "id": "xxvkqS4sgDXB"
      },
      "execution_count": 19,
      "outputs": []
    },
    {
      "cell_type": "code",
      "source": [
        "pd.DataFrame(principalComponents).to_csv('PCAfactors.csv')"
      ],
      "metadata": {
        "id": "hqhnSwTWgHAE"
      },
      "execution_count": 20,
      "outputs": []
    },
    {
      "cell_type": "code",
      "source": [
        "Y = raw[['2Y','3Y', '5Y', '7Y','10Y','30Y','US RET']]\n",
        "Y = (Y - Y.mean()) / Y.std()\n",
        "print(Y.head(5))"
      ],
      "metadata": {
        "colab": {
          "base_uri": "https://localhost:8080/"
        },
        "id": "k6NuzaXhkJyx",
        "outputId": "b93b0fdd-130f-45e9-df20-660de97231ec"
      },
      "execution_count": 22,
      "outputs": [
        {
          "output_type": "stream",
          "name": "stdout",
          "text": [
            "         2Y        3Y        5Y        7Y       10Y       30Y    US RET\n",
            "0 -0.554750 -0.385622  0.009431  0.397687  0.489932  0.566600  0.236688\n",
            "1 -0.281252  0.198103 -0.111576  0.010059  0.170291  0.441260  1.691498\n",
            "2 -1.729185 -1.805491 -1.079627 -0.486105 -0.484973 -0.095910 -0.127015\n",
            "3 -0.554750 -0.196306 -0.232582  0.103090  0.090381  0.387543  0.873167\n",
            "4 -0.570838 -1.000898 -0.716608 -0.780702 -0.724704 -0.633080 -0.581643\n"
          ]
        }
      ]
    },
    {
      "cell_type": "code",
      "source": [
        "pd.DataFrame(Y).to_csv('Y.csv')"
      ],
      "metadata": {
        "id": "eJBPwouXTK1u"
      },
      "execution_count": 24,
      "outputs": []
    }
  ]
}