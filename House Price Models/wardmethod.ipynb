{
  "nbformat": 4,
  "nbformat_minor": 0,
  "metadata": {
    "colab": {
      "provenance": []
    },
    "kernelspec": {
      "name": "python3",
      "display_name": "Python 3"
    },
    "language_info": {
      "name": "python"
    }
  },
  "cells": [
    {
      "cell_type": "code",
      "execution_count": 1,
      "metadata": {
        "id": "_Q9d4iORBAsZ"
      },
      "outputs": [],
      "source": [
        "# loading packages\n",
        "\n",
        "import os\n",
        "\n",
        "import pandas as pd\n",
        "import numpy as np\n",
        "\n",
        "# plotting packages\n",
        "%matplotlib inline\n",
        "from mpl_toolkits.mplot3d import Axes3D\n",
        "import matplotlib.pyplot as plt\n",
        "import matplotlib.cm as cm\n",
        "import matplotlib.colors as clrs\n",
        "\n",
        "# hierchical algorithm from scikit-learn\n",
        "from sklearn.cluster import AgglomerativeClustering"
      ]
    },
    {
      "cell_type": "code",
      "source": [
        "# load raw data\n",
        "DATA_FOLDER = './'\n",
        "raw = pd.read_csv(os.path.join(DATA_FOLDER, 'Country_risk_2019_data.csv'))\n",
        "\n",
        "# check the raw data\n",
        "print(\"Size of the dataset (row, col): \", raw.shape)\n",
        "print(\"\\nFirst 5 rows\\n\", raw.head(n=5))\n",
        "print(\"\\nFirst 5 rows and 5 columns\\n\",raw .iloc[:5 , :5])"
      ],
      "metadata": {
        "colab": {
          "base_uri": "https://localhost:8080/"
        },
        "id": "LHSXumHuBT1i",
        "outputId": "31801b42-6e9d-4c15-cdf2-61551551c23b"
      },
      "execution_count": 2,
      "outputs": [
        {
          "output_type": "stream",
          "name": "stdout",
          "text": [
            "Size of the dataset (row, col):  (121, 6)\n",
            "\n",
            "First 5 rows\n",
            "      Country Abbrev  Corruption  Peace  Legal  GDP Growth\n",
            "0    Albania     AL          35  1.821  4.546       2.983\n",
            "1    Algeria     DZ          35  2.219  4.435       2.553\n",
            "2  Argentina     AR          45  1.989  5.087      -3.061\n",
            "3    Armenia     AM          42  2.294  4.812       6.000\n",
            "4  Australia     AU          77  1.419  8.363       1.713\n",
            "\n",
            "First 5 rows and 5 columns\n",
            "      Country Abbrev  Corruption  Peace  Legal\n",
            "0    Albania     AL          35  1.821  4.546\n",
            "1    Algeria     DZ          35  2.219  4.435\n",
            "2  Argentina     AR          45  1.989  5.087\n",
            "3    Armenia     AM          42  2.294  4.812\n",
            "4  Australia     AU          77  1.419  8.363\n"
          ]
        }
      ]
    },
    {
      "cell_type": "code",
      "source": [
        "# check for missing values\n",
        "check = raw.isna().sum()\n",
        "check"
      ],
      "metadata": {
        "colab": {
          "base_uri": "https://localhost:8080/"
        },
        "id": "rFJrYsrlBeWx",
        "outputId": "5ec839a7-9996-4217-d041-c83f40abf138"
      },
      "execution_count": 3,
      "outputs": [
        {
          "output_type": "execute_result",
          "data": {
            "text/plain": [
              "Country       0\n",
              "Abbrev        0\n",
              "Corruption    0\n",
              "Peace         0\n",
              "Legal         0\n",
              "GDP Growth    0\n",
              "dtype: int64"
            ]
          },
          "metadata": {},
          "execution_count": 3
        }
      ]
    },
    {
      "cell_type": "code",
      "source": [
        "# Normalization\n",
        "X = raw[['Peace', 'Legal', 'GDP Growth']]\n",
        "X = (X - X.mean()) / X.std()\n",
        "print(X.head(5))"
      ],
      "metadata": {
        "colab": {
          "base_uri": "https://localhost:8080/"
        },
        "id": "tF35m7ijBg0F",
        "outputId": "7a77e045-a3be-404d-daa4-4620ff6c1650"
      },
      "execution_count": 5,
      "outputs": [
        {
          "output_type": "stream",
          "name": "stdout",
          "text": [
            "      Peace     Legal  GDP Growth\n",
            "0 -0.390081 -0.878158    0.126952\n",
            "1  0.472352 -0.958948   -0.040772\n",
            "2 -0.026039 -0.484397   -2.230541\n",
            "3  0.634871 -0.684553    1.303747\n",
            "4 -1.261182  1.900001   -0.368418\n"
          ]
        }
      ]
    },
    {
      "cell_type": "code",
      "source": [
        "#hierarchical_cluster\n",
        "hierarchical_cluster = AgglomerativeClustering(n_clusters=3, affinity='euclidean', linkage='ward')"
      ],
      "metadata": {
        "id": "YL8ood_0BiVn"
      },
      "execution_count": 6,
      "outputs": []
    },
    {
      "cell_type": "code",
      "source": [
        "y = hierarchical_cluster.fit_predict(X)\n",
        "print(\"cluster labels: \", y)"
      ],
      "metadata": {
        "colab": {
          "base_uri": "https://localhost:8080/"
        },
        "id": "tCJ1T-7gBlV6",
        "outputId": "72166e3a-db83-44c2-9ad4-ed9eadccfe45"
      },
      "execution_count": 7,
      "outputs": [
        {
          "output_type": "stream",
          "name": "stdout",
          "text": [
            "cluster labels:  [0 0 0 0 1 1 0 0 0 1 0 0 0 0 0 0 2 0 1 2 1 0 0 1 0 1 1 2 1 0 0 0 0 1 0 1 1\n",
            " 0 0 1 0 0 0 0 1 1 0 0 2 1 0 0 0 1 0 0 0 1 0 0 2 0 1 0 0 1 0 0 0 2 0 0 0 0\n",
            " 0 1 1 2 2 1 0 2 0 0 0 0 0 1 1 0 2 0 0 0 0 0 1 1 1 0 1 0 1 1 1 0 0 0 0 0 2\n",
            " 0 2 1 1 0 0 0 2 0 2]\n"
          ]
        },
        {
          "output_type": "stream",
          "name": "stderr",
          "text": [
            "/usr/local/lib/python3.10/dist-packages/sklearn/cluster/_agglomerative.py:983: FutureWarning: Attribute `affinity` was deprecated in version 1.2 and will be removed in 1.4. Use `metric` instead\n",
            "  warnings.warn(\n"
          ]
        }
      ]
    },
    {
      "cell_type": "code",
      "source": [
        "#List the result\n",
        "result = pd.DataFrame({'Country':raw['Country'], 'Abbrev':raw['Abbrev'], 'Label':y})\n",
        "with pd.option_context('display.max_rows', None, 'display.max_columns', 3):\n",
        "    print(result.sort_values('Label'))"
      ],
      "metadata": {
        "colab": {
          "base_uri": "https://localhost:8080/"
        },
        "id": "bV27wT9IBofv",
        "outputId": "3458ec57-cf8c-48de-db18-4de64ed8a921"
      },
      "execution_count": 8,
      "outputs": [
        {
          "output_type": "stream",
          "name": "stdout",
          "text": [
            "                          Country Abbrev  Label\n",
            "0                         Albania     AL      0\n",
            "70                        Moldova     FM      0\n",
            "68                      Mauritius     MU      0\n",
            "67                     Mauritania     MR      0\n",
            "66                           Mali     ML      0\n",
            "64                         Malawi     MW      0\n",
            "63                     Madagascar     MG      0\n",
            "61                        Liberia     LR      0\n",
            "119                        Zambia     ZM      0\n",
            "71                     Montenegro     ME      0\n",
            "59                         Latvia     LV      0\n",
            "56                          Kenya     KE      0\n",
            "55                     Kazakhstan     KZ      0\n",
            "108           Trinidad and Tobago     TT      0\n",
            "52                        Jamaica     JM      0\n",
            "51                          Italy     IT      0\n",
            "50                         Israel     IL      0\n",
            "115                 United States     US      0\n",
            "47                      Indonesia     ID      0\n",
            "58                         Kuwait     KW      0\n",
            "46                          India     IN      0\n",
            "72                        Morocco     MA      0\n",
            "74                          Nepal     NP      0\n",
            "107          The FYR of Macedonia     MK      0\n",
            "106                      Thailand     TH      0\n",
            "105                      Tanzania     TZ      0\n",
            "101                     Sri Lanka     LK      0\n",
            "99                   South Africa     ZA      0\n",
            "95                   Sierra Leone     SL      0\n",
            "94                         Serbia     RS      0\n",
            "93                        Senegal     SN      0\n",
            "73                     Mozambique     MZ      0\n",
            "92                   Saudi Arabia     SA      0\n",
            "89                        Romania     RO      0\n",
            "86                         Poland     PL      0\n",
            "85                    Philippines     PH      0\n",
            "84                           Peru     PE      0\n",
            "83                       Paraguay     PY      0\n",
            "82                         Panama     PA      0\n",
            "111                        Uganda     UG      0\n",
            "80                           Oman     OM      0\n",
            "91                         Rwanda     RW      0\n",
            "43                       Honduras     HN      0\n",
            "54                         Jordan     JO      0\n",
            "109                       Tunisia     TN      0\n",
            "13                       Botswana     BW      0\n",
            "17                       Cameroon     CM      0\n",
            "12         Bosnia and Herzegovina     BA      0\n",
            "11                        Bolivia     BO      0\n",
            "42                      Guatemala     GT      0\n",
            "10                          Benin     BJ      0\n",
            "117                       Vietnam     VI      0\n",
            "21                          China     CN      0\n",
            "22                       Colombia     CO      0\n",
            "8                      Bangladesh     BD      0\n",
            "7                         Bahrain     BH      0\n",
            "24                        Croatia     HR      0\n",
            "6                      Azerbaijan     AZ      0\n",
            "15                       Bulgaria     BG      0\n",
            "29             Dominican Republic     DO      0\n",
            "116                       Uruguay     UY      0\n",
            "31                          Egypt     EG      0\n",
            "1                         Algeria     DZ      0\n",
            "41                         Greece     GR      0\n",
            "40                          Ghana     GH      0\n",
            "2                       Argentina     AR      0\n",
            "3                         Armenia     AM      0\n",
            "38                        Georgia     GE      0\n",
            "37                          Gabon     GA      0\n",
            "30                        Ecuador     EC      0\n",
            "14                         Brazil     BR      0\n",
            "34                       Ethiopia     ET      0\n",
            "32                    El Salvador     SV      0\n",
            "103                   Switzerland     CH      1\n",
            "9                         Belgium     BE      1\n",
            "4                       Australia     AU      1\n",
            "100                         Spain     ES      1\n",
            "96                      Singapore     SG      1\n",
            "97                       Slovakia     SK      1\n",
            "88                          Qatar     QA      1\n",
            "87                       Portugal     PT      1\n",
            "98                       Slovenia     SI      1\n",
            "5                         Austria     AT      1\n",
            "102                        Sweden     SE      1\n",
            "104                        Taiwan     SY      1\n",
            "44                        Hungary     HU      1\n",
            "18                         Canada     CA      1\n",
            "45                        Iceland     IS      1\n",
            "39                        Germany     DE      1\n",
            "49                        Ireland     IE      1\n",
            "36                         France     FR      1\n",
            "53                          Japan     JP      1\n",
            "35                        Finland     FI      1\n",
            "33                        Estonia     EE      1\n",
            "57                  Korea (South)     KI      1\n",
            "62                      Lithuania     LT      1\n",
            "28                        Denmark     DK      1\n",
            "65                       Malaysia     MY      1\n",
            "26                 Czech Republic     CZ      1\n",
            "25                         Cyprus     CY      1\n",
            "114                United Kingdom     GB      1\n",
            "23                     Costa Rica     CR      1\n",
            "20                          Chile     CL      1\n",
            "75                    Netherlands     NL      1\n",
            "113          United Arab Emirates     AE      1\n",
            "79                         Norway     NO      1\n",
            "76                    New Zealand     NZ      1\n",
            "110                        Turkey     TR      2\n",
            "112                       Ukraine     UA      2\n",
            "118                         Yemen     YE      2\n",
            "60                        Lebanon     LB      2\n",
            "81                       Pakistan     PK      2\n",
            "78                        Nigeria     NG      2\n",
            "77                      Nicaragua     NI      2\n",
            "69                         Mexico     MX      2\n",
            "48                           Iran     IR      2\n",
            "27   Democratic Republic of Congo     CD      2\n",
            "19                           Chad     TD      2\n",
            "16                        Burundi     BI      2\n",
            "90                         Russia     RU      2\n",
            "120                      Zimbabwe     ZW      2\n"
          ]
        }
      ]
    },
    {
      "cell_type": "code",
      "source": [
        "pd.DataFrame(result).to_csv('hierarchical2_results.csv')"
      ],
      "metadata": {
        "id": "--9rfJBtBwJL"
      },
      "execution_count": 9,
      "outputs": []
    }
  ]
}