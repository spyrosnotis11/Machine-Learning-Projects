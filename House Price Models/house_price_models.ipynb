{
  "nbformat": 4,
  "nbformat_minor": 0,
  "metadata": {
    "colab": {
      "provenance": []
    },
    "kernelspec": {
      "name": "python3",
      "display_name": "Python 3"
    },
    "language_info": {
      "name": "python"
    }
  },
  "cells": [
    {
      "cell_type": "code",
      "execution_count": 1,
      "metadata": {
        "id": "hNOximZtwoYR"
      },
      "outputs": [],
      "source": [
        "# Importing necessary packages\n",
        "import pandas as pd # python's data handling package\n",
        "import numpy as np # python's scientific computing package\n",
        "import matplotlib.pyplot as plt # python's plotting package\n",
        "from sklearn.metrics import mean_squared_error as mse"
      ]
    },
    {
      "cell_type": "code",
      "source": [
        "data = pd.read_csv('Houseprice_data_scaled.csv')"
      ],
      "metadata": {
        "id": "IOly1Lrb4edr"
      },
      "execution_count": 2,
      "outputs": []
    },
    {
      "cell_type": "code",
      "source": [
        "# First 1800 data items are training set; the next 600 are the validation set; the rest are the test set\n",
        "train = data.iloc[:1800]\n",
        "val = data.iloc[1800:2400]\n",
        "test=data.iloc[2400:2908]"
      ],
      "metadata": {
        "id": "ZUJMeCux7CGD"
      },
      "execution_count": 3,
      "outputs": []
    },
    {
      "cell_type": "code",
      "source": [
        "# Creating the \"X\" and \"y\" variables. We drop sale price from \"X\"\n",
        "X_train, X_val,X_test = train.drop('Sale Price', axis=1), val.drop('Sale Price', axis=1), test.drop('Sale Price', axis=1)\n",
        "y_train, y_val,y_test = train[['Sale Price']], val[['Sale Price']], test[['Sale Price']]"
      ],
      "metadata": {
        "id": "BKj06vVN7074"
      },
      "execution_count": 4,
      "outputs": []
    },
    {
      "cell_type": "code",
      "source": [
        "print(\"\\nSummary statistics\\n\", data.describe())\n",
        "print(\"\\nCorrelation matrix\\n\", data.corr())"
      ],
      "metadata": {
        "colab": {
          "base_uri": "https://localhost:8080/"
        },
        "id": "sCrOZomu2rdz",
        "outputId": "dc588a71-c560-4c79-af32-cbf6ef777ea3"
      },
      "execution_count": 5,
      "outputs": [
        {
          "output_type": "stream",
          "name": "stdout",
          "text": [
            "\n",
            "Summary statistics\n",
            "            LotArea  OverallQual  OverallCond    YearBuilt  YearRemodAdd  \\\n",
            "count  2908.000000  2908.000000  2908.000000  2908.000000   2908.000000   \n",
            "mean     -0.014297    -0.011672    -0.001960    -0.020343     -0.032348   \n",
            "std       0.864624     1.012869     1.000959     1.011374      1.011740   \n",
            "min      -0.992707    -3.698901    -4.115272    -3.337719     -1.691761   \n",
            "25%      -0.308670    -0.797802    -0.512407    -0.598187     -0.965106   \n",
            "50%      -0.089254    -0.072527    -0.512407     0.036583      0.391317   \n",
            "75%       0.141143     0.652747     0.388309     0.972033      0.924198   \n",
            "max      22.739771     2.828571     3.090457     1.272713      1.214860   \n",
            "\n",
            "       TotalBsmtSF     1stFlrSF     2ndFlrSF    GrLivArea     FullBath  ...  \\\n",
            "count  2908.000000  2908.000000  2908.000000  2908.000000  2908.000000  ...   \n",
            "mean     -0.024176    -0.009944    -0.007302    -0.016210    -0.003594  ...   \n",
            "std       1.006134     1.003188     0.994998     0.991275     1.008878  ...   \n",
            "min      -2.533469    -2.204050    -0.789421    -2.383320    -2.868972  ...   \n",
            "25%      -0.633414    -0.755363    -0.789421    -0.768538    -1.039659  ...   \n",
            "50%      -0.164990    -0.204755    -0.789421    -0.123543     0.789653  ...   \n",
            "75%       0.581375     0.599774     0.853858     0.485250     0.789653  ...   \n",
            "max       5.148216     7.113518     3.556865     4.726412     4.448279  ...   \n",
            "\n",
            "       BedroomAbvGr  TotRmsAbvGrd   Fireplaces   GarageCars   WoodDeckSF  \\\n",
            "count   2908.000000   2908.000000  2908.000000  2908.000000  2908.000000   \n",
            "mean       0.002009     -0.018064    -0.021756    -0.012239    -0.002194   \n",
            "std        1.014764      0.978421     1.001143     1.023162     1.011413   \n",
            "min       -3.528511     -2.815688    -0.947675    -2.385264    -0.749963   \n",
            "25%       -1.060541     -0.927373    -0.947675    -1.040611    -0.749963   \n",
            "50%        0.173443     -0.297934     0.608725     0.304041    -0.749963   \n",
            "75%        0.173443      0.331504     0.608725     0.304041     0.595789   \n",
            "max        6.343368      4.737573     5.277925     4.337998    10.656886   \n",
            "\n",
            "       OpenPorchSF  EnclosedPorch    Bsmt Qual  SaleCondition   Sale Price  \n",
            "count  2908.000000    2908.000000  2908.000000   2.908000e+03  2908.000000  \n",
            "mean      0.007907       0.017189    -0.023947  -2.321184e-10    -0.007050  \n",
            "std       1.028393       1.042485     1.045664   1.000000e+00     1.011872  \n",
            "min      -0.718903      -0.357173    -4.064330  -3.877210e-01    -2.175895  \n",
            "25%      -0.718903      -0.357173    -0.577852  -3.877210e-01    -0.666312  \n",
            "50%      -0.317684      -0.357173     0.584308  -3.877210e-01    -0.269568  \n",
            "75%       0.361303      -0.357173     0.584308  -3.877210e-01     0.420777  \n",
            "max      10.731287      16.075670     1.746467   5.096193e+00     5.752007  \n",
            "\n",
            "[8 rows x 21 columns]\n",
            "\n",
            "Correlation matrix\n",
            "                 LotArea  OverallQual  OverallCond  YearBuilt  YearRemodAdd  \\\n",
            "LotArea        1.000000     0.086673    -0.033150   0.017576      0.015758   \n",
            "OverallQual    0.086673     1.000000    -0.094930   0.597037      0.570760   \n",
            "OverallCond   -0.033150    -0.094930     1.000000  -0.372161      0.046786   \n",
            "YearBuilt      0.017576     0.597037    -0.372161   1.000000      0.611591   \n",
            "YearRemodAdd   0.015758     0.570760     0.046786   0.611591      1.000000   \n",
            "TotalBsmtSF    0.221602     0.545862    -0.179788   0.415522      0.299617   \n",
            "1stFlrSF       0.305884     0.469155    -0.160490   0.310830      0.240549   \n",
            "2ndFlrSF       0.023698     0.239868     0.006709   0.015281      0.157115   \n",
            "GrLivArea      0.257104     0.568135    -0.116868   0.239774      0.317900   \n",
            "FullBath       0.119787     0.527390    -0.215179   0.472090      0.457957   \n",
            "HalfBath       0.027138     0.266778    -0.088722   0.266854      0.208986   \n",
            "BedroomAbvGr   0.135272     0.073056    -0.008676  -0.053136     -0.022597   \n",
            "TotRmsAbvGrd   0.198192     0.379603    -0.091157   0.108449      0.193455   \n",
            "Fireplaces     0.251854     0.382495    -0.030516   0.165789      0.129921   \n",
            "GarageCars     0.176706     0.600304    -0.182808   0.536730      0.424620   \n",
            "WoodDeckSF     0.151145     0.248864     0.020506   0.227101      0.215691   \n",
            "OpenPorchSF    0.083385     0.290231    -0.063669   0.196460      0.240999   \n",
            "EnclosedPorch  0.022772    -0.140247     0.070804  -0.374407     -0.222246   \n",
            "Bsmt Qual      0.051177     0.639434    -0.180089   0.622330      0.524769   \n",
            "SaleCondition  0.025824     0.125016    -0.146185   0.124377      0.091634   \n",
            "Sale Price     0.271898     0.806283    -0.105014   0.565676      0.540839   \n",
            "\n",
            "               TotalBsmtSF  1stFlrSF  2ndFlrSF  GrLivArea  FullBath  ...  \\\n",
            "LotArea           0.221602  0.305884  0.023698   0.257104  0.119787  ...   \n",
            "OverallQual       0.545862  0.469155  0.239868   0.568135  0.527390  ...   \n",
            "OverallCond      -0.179788 -0.160490  0.006709  -0.116868 -0.215179  ...   \n",
            "YearBuilt         0.415522  0.310830  0.015281   0.239774  0.472090  ...   \n",
            "YearRemodAdd      0.299617  0.240549  0.157115   0.317900  0.457957  ...   \n",
            "TotalBsmtSF       1.000000  0.789484 -0.234573   0.401733  0.331166  ...   \n",
            "1stFlrSF          0.789484  1.000000 -0.277560   0.527698  0.376213  ...   \n",
            "2ndFlrSF         -0.234573 -0.277560  1.000000   0.664412  0.397155  ...   \n",
            "GrLivArea         0.401733  0.527698  0.664412   1.000000  0.638524  ...   \n",
            "FullBath          0.331166  0.376213  0.397155   0.638524  1.000000  ...   \n",
            "HalfBath         -0.074455 -0.126963  0.613354   0.436181  0.155463  ...   \n",
            "BedroomAbvGr      0.056885  0.117159  0.502764   0.538134  0.354831  ...   \n",
            "TotRmsAbvGrd      0.254679  0.371869  0.586010   0.811052  0.525933  ...   \n",
            "Fireplaces        0.320157  0.398827  0.165553   0.452645  0.232900  ...   \n",
            "GarageCars        0.446850  0.446252  0.179185   0.495401  0.479046  ...   \n",
            "WoodDeckSF        0.221035  0.215517  0.086691   0.241035  0.177573  ...   \n",
            "OpenPorchSF       0.215214  0.207270  0.183548   0.320826  0.256806  ...   \n",
            "EnclosedPorch    -0.084095 -0.067716  0.055646   0.004910 -0.120366  ...   \n",
            "Bsmt Qual         0.586259  0.291938  0.127890   0.332752  0.377127  ...   \n",
            "SaleCondition     0.107315  0.125722 -0.018735   0.080753  0.109302  ...   \n",
            "Sale Price        0.659033  0.640282  0.262381   0.721056  0.552417  ...   \n",
            "\n",
            "               BedroomAbvGr  TotRmsAbvGrd  Fireplaces  GarageCars  WoodDeckSF  \\\n",
            "LotArea            0.135272      0.198192    0.251854    0.176706    0.151145   \n",
            "OverallQual        0.073056      0.379603    0.382495    0.600304    0.248864   \n",
            "OverallCond       -0.008676     -0.091157   -0.030516   -0.182808    0.020506   \n",
            "YearBuilt         -0.053136      0.108449    0.165789    0.536730    0.227101   \n",
            "YearRemodAdd      -0.022597      0.193455    0.129921    0.424620    0.215691   \n",
            "TotalBsmtSF        0.056885      0.254679    0.320157    0.446850    0.221035   \n",
            "1stFlrSF           0.117159      0.371869    0.398827    0.446252    0.215517   \n",
            "2ndFlrSF           0.502764      0.586010    0.165553    0.179185    0.086691   \n",
            "GrLivArea          0.538134      0.811052    0.452645    0.495401    0.241035   \n",
            "FullBath           0.354831      0.525933    0.232900    0.479046    0.177573   \n",
            "HalfBath           0.246505      0.342300    0.200863    0.231518    0.112889   \n",
            "BedroomAbvGr       1.000000      0.677516    0.087366    0.093443    0.031832   \n",
            "TotRmsAbvGrd       0.677516      1.000000    0.302679    0.354858    0.147068   \n",
            "Fireplaces         0.087366      0.302679    1.000000    0.318322    0.222647   \n",
            "GarageCars         0.093443      0.354858    0.318322    1.000000    0.237311   \n",
            "WoodDeckSF         0.031832      0.147068    0.222647    0.237311    1.000000   \n",
            "OpenPorchSF        0.089064      0.221402    0.150846    0.200492    0.028333   \n",
            "EnclosedPorch      0.050569      0.017746    0.002702   -0.132756   -0.120471   \n",
            "Bsmt Qual         -0.031357      0.169398    0.238610    0.463263    0.250824   \n",
            "SaleCondition      0.022856      0.108475   -0.000333    0.110473   -0.030151   \n",
            "Sale Price         0.148882      0.503889    0.473906    0.655496    0.327623   \n",
            "\n",
            "               OpenPorchSF  EnclosedPorch  Bsmt Qual  SaleCondition  \\\n",
            "LotArea           0.083385       0.022772   0.051177       0.025824   \n",
            "OverallQual       0.290231      -0.140247   0.639434       0.125016   \n",
            "OverallCond      -0.063669       0.070804  -0.180089      -0.146185   \n",
            "YearBuilt         0.196460      -0.374407   0.622330       0.124377   \n",
            "YearRemodAdd      0.240999      -0.222246   0.524769       0.091634   \n",
            "TotalBsmtSF       0.215214      -0.084095   0.586259       0.107315   \n",
            "1stFlrSF          0.207270      -0.067716   0.291938       0.125722   \n",
            "2ndFlrSF          0.183548       0.055646   0.127890      -0.018735   \n",
            "GrLivArea         0.320826       0.004910   0.332752       0.080753   \n",
            "FullBath          0.256806      -0.120366   0.377127       0.109302   \n",
            "HalfBath          0.178386      -0.081937   0.226099       0.011319   \n",
            "BedroomAbvGr      0.089064       0.050569  -0.031357       0.022856   \n",
            "TotRmsAbvGrd      0.221402       0.017746   0.169398       0.108475   \n",
            "Fireplaces        0.150846       0.002702   0.238610      -0.000333   \n",
            "GarageCars        0.200492      -0.132756   0.463263       0.110473   \n",
            "WoodDeckSF        0.028333      -0.120471   0.250824      -0.030151   \n",
            "OpenPorchSF       1.000000      -0.058103   0.234133       0.060114   \n",
            "EnclosedPorch    -0.058103       1.000000  -0.188514      -0.011537   \n",
            "Bsmt Qual         0.234133      -0.188514   1.000000       0.098138   \n",
            "SaleCondition     0.060114      -0.011537   0.098138       1.000000   \n",
            "Sale Price        0.325455      -0.131250   0.613433       0.137327   \n",
            "\n",
            "               Sale Price  \n",
            "LotArea          0.271898  \n",
            "OverallQual      0.806283  \n",
            "OverallCond     -0.105014  \n",
            "YearBuilt        0.565676  \n",
            "YearRemodAdd     0.540839  \n",
            "TotalBsmtSF      0.659033  \n",
            "1stFlrSF         0.640282  \n",
            "2ndFlrSF         0.262381  \n",
            "GrLivArea        0.721056  \n",
            "FullBath         0.552417  \n",
            "HalfBath         0.282903  \n",
            "BedroomAbvGr     0.148882  \n",
            "TotRmsAbvGrd     0.503889  \n",
            "Fireplaces       0.473906  \n",
            "GarageCars       0.655496  \n",
            "WoodDeckSF       0.327623  \n",
            "OpenPorchSF      0.325455  \n",
            "EnclosedPorch   -0.131250  \n",
            "Bsmt Qual        0.613433  \n",
            "SaleCondition    0.137327  \n",
            "Sale Price       1.000000  \n",
            "\n",
            "[21 rows x 21 columns]\n"
          ]
        }
      ]
    },
    {
      "cell_type": "code",
      "source": [
        "# Importing models\n",
        "from sklearn.linear_model import LinearRegression"
      ],
      "metadata": {
        "id": "m8vQkehA2uGk"
      },
      "execution_count": 6,
      "outputs": []
    },
    {
      "cell_type": "code",
      "source": [
        "#  MSE at the train set\n",
        "lr=LinearRegression()\n",
        "lr.fit(X_train,y_train)\n",
        "pred=lr.predict(X_train)\n",
        "print(mse(y_train,pred))"
      ],
      "metadata": {
        "colab": {
          "base_uri": "https://localhost:8080/"
        },
        "id": "JkquOPix2yux",
        "outputId": "9d0b8019-98f9-4a84-8854-413d93613a83"
      },
      "execution_count": 7,
      "outputs": [
        {
          "output_type": "stream",
          "name": "stdout",
          "text": [
            "0.1496948757851087\n"
          ]
        }
      ]
    },
    {
      "cell_type": "code",
      "source": [
        "# MSE at the validation dataset\n",
        "lr.fit(X_train,y_train)\n",
        "pred=lr.predict(X_val)\n",
        "print(mse(y_val,pred))"
      ],
      "metadata": {
        "colab": {
          "base_uri": "https://localhost:8080/"
        },
        "id": "C3XScMfN225Z",
        "outputId": "b887f8ab-05fb-47cd-f299-093e4ff794dc"
      },
      "execution_count": 8,
      "outputs": [
        {
          "output_type": "stream",
          "name": "stdout",
          "text": [
            "0.15444734560114498\n"
          ]
        }
      ]
    },
    {
      "cell_type": "code",
      "source": [
        "lr.fit(X_train,y_train)\n",
        "pred=lr.predict(X_test)\n",
        "print(mse(y_test,pred))"
      ],
      "metadata": {
        "colab": {
          "base_uri": "https://localhost:8080/"
        },
        "id": "s7GL_qSbMSI3",
        "outputId": "3967441b-2f38-46dd-8a90-8ac77a0bdb1d"
      },
      "execution_count": 41,
      "outputs": [
        {
          "output_type": "stream",
          "name": "stdout",
          "text": [
            "0.150067674210941\n"
          ]
        }
      ]
    },
    {
      "cell_type": "code",
      "source": [
        "# Create dataFrame with corresponding feature and its respective coefficients\n",
        "coeffs = pd.DataFrame(\n",
        "    [\n",
        "        ['intercept'] + list(X_train.columns),\n",
        "        list(lr.intercept_) + list(lr.coef_[0])\n",
        "    ]\n",
        ").transpose().set_index(0)\n",
        "\n",
        "lreg_coefficient = pd.DataFrame()\n",
        "lreg_coefficient[\"Features\"] = X_train.columns\n",
        "lreg_coefficient['Coef Estimate'] = pd.Series(lr.coef_[0])\n",
        "print(lreg_coefficient)"
      ],
      "metadata": {
        "colab": {
          "base_uri": "https://localhost:8080/"
        },
        "id": "KfatRvm9230u",
        "outputId": "971c88a1-fbfc-41eb-e7fc-e684394fa01e"
      },
      "execution_count": 9,
      "outputs": [
        {
          "output_type": "stream",
          "name": "stdout",
          "text": [
            "         Features  Coef Estimate\n",
            "0         LotArea       0.082885\n",
            "1     OverallQual       0.260314\n",
            "2     OverallCond       0.091462\n",
            "3       YearBuilt       0.175222\n",
            "4    YearRemodAdd       0.031755\n",
            "5     TotalBsmtSF       0.176167\n",
            "6        1stFlrSF       0.222085\n",
            "7        2ndFlrSF       0.219521\n",
            "8       GrLivArea       0.146441\n",
            "9        FullBath      -0.060833\n",
            "10       HalfBath      -0.012383\n",
            "11   BedroomAbvGr      -0.130553\n",
            "12   TotRmsAbvGrd       0.071984\n",
            "13     Fireplaces       0.035594\n",
            "14     GarageCars       0.084773\n",
            "15     WoodDeckSF       0.029884\n",
            "16    OpenPorchSF       0.030774\n",
            "17  EnclosedPorch       0.006171\n",
            "18      Bsmt Qual       0.027164\n",
            "19  SaleCondition       0.023912\n"
          ]
        }
      ]
    },
    {
      "cell_type": "code",
      "source": [
        "print('R squared training set', round(lr.score(X_train, y_train)*100, 2))\n",
        "print('R squared test set', round(lr.score(X_test, y_test)*100, 2))"
      ],
      "metadata": {
        "colab": {
          "base_uri": "https://localhost:8080/"
        },
        "id": "k2lxqVMA299d",
        "outputId": "9fa68ba9-29a3-4b08-f846-cb5e3dc8ed6a"
      },
      "execution_count": 10,
      "outputs": [
        {
          "output_type": "stream",
          "name": "stdout",
          "text": [
            "R squared training set 85.02\n",
            "R squared test set 84.57\n"
          ]
        }
      ]
    },
    {
      "cell_type": "code",
      "source": [
        "# Importing Ridge\n",
        "from sklearn.linear_model import Ridge\n",
        "\n",
        "# The alpha used by Python's ridge should be the lambda times the number of observations\n",
        "alphas=[0.001*1800,0.01*1800, 0.02*1800, 0.03*1800, 0.04*1800, 0.05*1800, 0.075*1800,0.1*1800,0.2*1800, 0.4*1800]\n",
        "#alphas = np.linspace(0, 3.0, num=20)*1800 # from 0 to 3 with 20 numbers inside\n",
        "#alphas = range(0,2*1800)\n",
        "mses=[]\n",
        "for alpha in alphas:\n",
        "    ridge=Ridge(alpha=alpha)\n",
        "    ridge.fit(X_train,y_train)\n",
        "    pred=ridge.predict(X_val)\n",
        "    mses.append(mse(y_val,pred))\n",
        "    print(mse(y_val,pred))"
      ],
      "metadata": {
        "colab": {
          "base_uri": "https://localhost:8080/"
        },
        "id": "hQIdapTj3csb",
        "outputId": "9e47a694-ba9c-4cfa-d95a-aca1f7f8bd21"
      },
      "execution_count": 12,
      "outputs": [
        {
          "output_type": "stream",
          "name": "stdout",
          "text": [
            "0.15450566401262777\n",
            "0.15489184109495496\n",
            "0.15531986407793194\n",
            "0.1558004835800792\n",
            "0.15632685754527129\n",
            "0.15688882881574234\n",
            "0.15839781519840404\n",
            "0.15999129988536004\n",
            "0.1665432027652619\n",
            "0.17915244715794368\n"
          ]
        }
      ]
    },
    {
      "cell_type": "code",
      "source": [
        "plt.xlabel('lamda')\n",
        "plt.ylabel('mse')\n",
        "lamdas = [i/1800 for i in alphas]\n",
        "plt.plot(lamdas, mses)"
      ],
      "metadata": {
        "colab": {
          "base_uri": "https://localhost:8080/",
          "height": 467
        },
        "id": "m2xSUNqY3pV2",
        "outputId": "429cd5d5-b28d-4171-a4cb-d6da6d8920fd"
      },
      "execution_count": 21,
      "outputs": [
        {
          "output_type": "execute_result",
          "data": {
            "text/plain": [
              "[<matplotlib.lines.Line2D at 0x78aedb2e5420>]"
            ]
          },
          "metadata": {},
          "execution_count": 21
        },
        {
          "output_type": "display_data",
          "data": {
            "text/plain": [
              "<Figure size 640x480 with 1 Axes>"
            ],
            "image/png": "[encoded data removed]"
          },
          "metadata": {}
        }
      ]
    },
    {
      "cell_type": "code",
      "source": [
        "from sklearn.linear_model import RidgeCV\n",
        "regr_cv= RidgeCV(alphas=alphas, fit_intercept=True, cv=10)\n",
        "model_cv2=regr_cv.fit(X_train,y_train)\n",
        "model_cv2.alpha_"
      ],
      "metadata": {
        "colab": {
          "base_uri": "https://localhost:8080/"
        },
        "id": "rR30bPS_3xBX",
        "outputId": "a51ceaa7-95f6-4255-ac8b-1e677e9700c8"
      },
      "execution_count": 14,
      "outputs": [
        {
          "output_type": "execute_result",
          "data": {
            "text/plain": [
              "90.0"
            ]
          },
          "metadata": {},
          "execution_count": 14
        }
      ]
    },
    {
      "cell_type": "code",
      "source": [
        "# MSE at the training dataset\n",
        "ridge=Ridge(alpha=model_cv2.alpha_)\n",
        "ridge.fit(X_train,y_train)\n",
        "pred=ridge.predict(X_train)\n",
        "print(mse(y_train,pred))"
      ],
      "metadata": {
        "colab": {
          "base_uri": "https://localhost:8080/"
        },
        "id": "UM8am27u3yzD",
        "outputId": "0bf6939b-86b0-4ad8-9242-81e0584272c0"
      },
      "execution_count": 16,
      "outputs": [
        {
          "output_type": "stream",
          "name": "stdout",
          "text": [
            "0.1507687525458446\n"
          ]
        }
      ]
    },
    {
      "cell_type": "code",
      "source": [
        "# MSE at the validation dataset\n",
        "ridge=Ridge(alpha=model_cv2.alpha_)\n",
        "ridge.fit(X_train,y_train)\n",
        "pred=ridge.predict(X_val)\n",
        "print(mse(y_val,pred))"
      ],
      "metadata": {
        "colab": {
          "base_uri": "https://localhost:8080/"
        },
        "id": "egbTCvFjlNNI",
        "outputId": "9d657f7f-36c4-4f1f-ab57-c664ed52fec3"
      },
      "execution_count": 17,
      "outputs": [
        {
          "output_type": "stream",
          "name": "stdout",
          "text": [
            "0.15688882881574234\n"
          ]
        }
      ]
    },
    {
      "cell_type": "code",
      "source": [
        "# Ridge\n",
        "# import model\n",
        "from sklearn.linear_model import Ridge\n",
        "# Here we produce results for alpha=135 which corresponds to lambda=135/1800=0.075\n",
        "ridge=Ridge(alpha=model_cv2.alpha_)\n",
        "ridge.fit(X_train, y_train)\n",
        "\n",
        "# DataFrame with corresponding feature and its respective coefficients\n",
        "coeffs = pd.DataFrame(\n",
        "    [\n",
        "        ['intercept'] + list(X_train.columns),\n",
        "        list(ridge.intercept_) + list(ridge.coef_[0])\n",
        "    ]\n",
        ").transpose().set_index(0)\n",
        "ridgereg_coefficient = pd.DataFrame()\n",
        "ridgereg_coefficient[\"Features\"] = X_train.columns\n",
        "ridgereg_coefficient['Coef Estimate'] = pd.Series(ridge.coef_[0])\n",
        "ridgereg_coefficient"
      ],
      "metadata": {
        "colab": {
          "base_uri": "https://localhost:8080/",
          "height": 676
        },
        "id": "wN7-C_bv4Jiz",
        "outputId": "d4ec0a65-da18-48ca-8496-c57f3604aa82"
      },
      "execution_count": 19,
      "outputs": [
        {
          "output_type": "execute_result",
          "data": {
            "text/plain": [
              "         Features  Coef Estimate\n",
              "0         LotArea       0.079732\n",
              "1     OverallQual       0.248931\n",
              "2     OverallCond       0.080251\n",
              "3       YearBuilt       0.143338\n",
              "4    YearRemodAdd       0.043423\n",
              "5     TotalBsmtSF       0.162117\n",
              "6        1stFlrSF       0.156489\n",
              "7        2ndFlrSF       0.118982\n",
              "8       GrLivArea       0.204455\n",
              "9        FullBath      -0.035686\n",
              "10       HalfBath       0.005178\n",
              "11   BedroomAbvGr      -0.111995\n",
              "12   TotRmsAbvGrd       0.072899\n",
              "13     Fireplaces       0.044355\n",
              "14     GarageCars       0.092626\n",
              "15     WoodDeckSF       0.033058\n",
              "16    OpenPorchSF       0.033426\n",
              "17  EnclosedPorch       0.003722\n",
              "18      Bsmt Qual       0.044302\n",
              "19  SaleCondition       0.022722"
            ],
            "text/html": [
              "\n",
              "  <div id=\"df-b5ae1798-cf72-45cd-9115-da8bef7d4347\" class=\"colab-df-container\">\n",
              "    <div>\n",
              "<style scoped>\n",
              "    .dataframe tbody tr th:only-of-type {\n",
              "        vertical-align: middle;\n",
              "    }\n",
              "\n",
              "    .dataframe tbody tr th {\n",
              "        vertical-align: top;\n",
              "    }\n",
              "\n",
              "    .dataframe thead th {\n",
              "        text-align: right;\n",
              "    }\n",
              "</style>\n",
              "<table border=\"1\" class=\"dataframe\">\n",
              "  <thead>\n",
              "    <tr style=\"text-align: right;\">\n",
              "      <th></th>\n",
              "      <th>Features</th>\n",
              "      <th>Coef Estimate</th>\n",
              "    </tr>\n",
              "  </thead>\n",
              "  <tbody>\n",
              "    <tr>\n",
              "      <th>0</th>\n",
              "      <td>LotArea</td>\n",
              "      <td>0.079732</td>\n",
              "    </tr>\n",
              "    <tr>\n",
              "      <th>1</th>\n",
              "      <td>OverallQual</td>\n",
              "      <td>0.248931</td>\n",
              "    </tr>\n",
              "    <tr>\n",
              "      <th>2</th>\n",
              "      <td>OverallCond</td>\n",
              "      <td>0.080251</td>\n",
              "    </tr>\n",
              "    <tr>\n",
              "      <th>3</th>\n",
              "      <td>YearBuilt</td>\n",
              "      <td>0.143338</td>\n",
              "    </tr>\n",
              "    <tr>\n",
              "      <th>4</th>\n",
              "      <td>YearRemodAdd</td>\n",
              "      <td>0.043423</td>\n",
              "    </tr>\n",
              "    <tr>\n",
              "      <th>5</th>\n",
              "      <td>TotalBsmtSF</td>\n",
              "      <td>0.162117</td>\n",
              "    </tr>\n",
              "    <tr>\n",
              "      <th>6</th>\n",
              "      <td>1stFlrSF</td>\n",
              "      <td>0.156489</td>\n",
              "    </tr>\n",
              "    <tr>\n",
              "      <th>7</th>\n",
              "      <td>2ndFlrSF</td>\n",
              "      <td>0.118982</td>\n",
              "    </tr>\n",
              "    <tr>\n",
              "      <th>8</th>\n",
              "      <td>GrLivArea</td>\n",
              "      <td>0.204455</td>\n",
              "    </tr>\n",
              "    <tr>\n",
              "      <th>9</th>\n",
              "      <td>FullBath</td>\n",
              "      <td>-0.035686</td>\n",
              "    </tr>\n",
              "    <tr>\n",
              "      <th>10</th>\n",
              "      <td>HalfBath</td>\n",
              "      <td>0.005178</td>\n",
              "    </tr>\n",
              "    <tr>\n",
              "      <th>11</th>\n",
              "      <td>BedroomAbvGr</td>\n",
              "      <td>-0.111995</td>\n",
              "    </tr>\n",
              "    <tr>\n",
              "      <th>12</th>\n",
              "      <td>TotRmsAbvGrd</td>\n",
              "      <td>0.072899</td>\n",
              "    </tr>\n",
              "    <tr>\n",
              "      <th>13</th>\n",
              "      <td>Fireplaces</td>\n",
              "      <td>0.044355</td>\n",
              "    </tr>\n",
              "    <tr>\n",
              "      <th>14</th>\n",
              "      <td>GarageCars</td>\n",
              "      <td>0.092626</td>\n",
              "    </tr>\n",
              "    <tr>\n",
              "      <th>15</th>\n",
              "      <td>WoodDeckSF</td>\n",
              "      <td>0.033058</td>\n",
              "    </tr>\n",
              "    <tr>\n",
              "      <th>16</th>\n",
              "      <td>OpenPorchSF</td>\n",
              "      <td>0.033426</td>\n",
              "    </tr>\n",
              "    <tr>\n",
              "      <th>17</th>\n",
              "      <td>EnclosedPorch</td>\n",
              "      <td>0.003722</td>\n",
              "    </tr>\n",
              "    <tr>\n",
              "      <th>18</th>\n",
              "      <td>Bsmt Qual</td>\n",
              "      <td>0.044302</td>\n",
              "    </tr>\n",
              "    <tr>\n",
              "      <th>19</th>\n",
              "      <td>SaleCondition</td>\n",
              "      <td>0.022722</td>\n",
              "    </tr>\n",
              "  </tbody>\n",
              "</table>\n",
              "</div>\n",
              "    <div class=\"colab-df-buttons\">\n",
              "\n",
              "  <div class=\"colab-df-container\">\n",
              "    <button class=\"colab-df-convert\" onclick=\"convertToInteractive('df-b5ae1798-cf72-45cd-9115-da8bef7d4347')\"\n",
              "            title=\"Convert this dataframe to an interactive table.\"\n",
              "            style=\"display:none;\">\n",
              "\n",
              "  <svg xmlns=\"http://www.w3.org/2000/svg\" height=\"24px\" viewBox=\"0 -960 960 960\">\n",
              "    <path d=\"M120-120v-720h720v720H120Zm60-500h600v-160H180v160Zm220 220h160v-160H400v160Zm0 220h160v-160H400v160ZM180-400h160v-160H180v160Zm440 0h160v-160H620v160ZM180-180h160v-160H180v160Zm440 0h160v-160H620v160Z\"/>\n",
              "  </svg>\n",
              "    </button>\n",
              "\n",
              "  <style>\n",
              "    .colab-df-container {\n",
              "      display:flex;\n",
              "      gap: 12px;\n",
              "    }\n",
              "\n",
              "    .colab-df-convert {\n",
              "      background-color: #E8F0FE;\n",
              "      border: none;\n",
              "      border-radius: 50%;\n",
              "      cursor: pointer;\n",
              "      display: none;\n",
              "      fill: #1967D2;\n",
              "      height: 32px;\n",
              "      padding: 0 0 0 0;\n",
              "      width: 32px;\n",
              "    }\n",
              "\n",
              "    .colab-df-convert:hover {\n",
              "      background-color: #E2EBFA;\n",
              "      box-shadow: 0px 1px 2px rgba(60, 64, 67, 0.3), 0px 1px 3px 1px rgba(60, 64, 67, 0.15);\n",
              "      fill: #174EA6;\n",
              "    }\n",
              "\n",
              "    .colab-df-buttons div {\n",
              "      margin-bottom: 4px;\n",
              "    }\n",
              "\n",
              "    [theme=dark] .colab-df-convert {\n",
              "      background-color: #3B4455;\n",
              "      fill: #D2E3FC;\n",
              "    }\n",
              "\n",
              "    [theme=dark] .colab-df-convert:hover {\n",
              "      background-color: #434B5C;\n",
              "      box-shadow: 0px 1px 3px 1px rgba(0, 0, 0, 0.15);\n",
              "      filter: drop-shadow(0px 1px 2px rgba(0, 0, 0, 0.3));\n",
              "      fill: #FFFFFF;\n",
              "    }\n",
              "  </style>\n",
              "\n",
              "    <script>\n",
              "      const buttonEl =\n",
              "        document.querySelector('#df-b5ae1798-cf72-45cd-9115-da8bef7d4347 button.colab-df-convert');\n",
              "      buttonEl.style.display =\n",
              "        google.colab.kernel.accessAllowed ? 'block' : 'none';\n",
              "\n",
              "      async function convertToInteractive(key) {\n",
              "        const element = document.querySelector('#df-b5ae1798-cf72-45cd-9115-da8bef7d4347');\n",
              "        const dataTable =\n",
              "          await google.colab.kernel.invokeFunction('convertToInteractive',\n",
              "                                                    [key], {});\n",
              "        if (!dataTable) return;\n",
              "\n",
              "        const docLinkHtml = 'Like what you see? Visit the ' +\n",
              "          '<a target=\"_blank\" href=https://colab.research.google.com/notebooks/data_table.ipynb>data table notebook</a>'\n",
              "          + ' to learn more about interactive tables.';\n",
              "        element.innerHTML = '';\n",
              "        dataTable['output_type'] = 'display_data';\n",
              "        await google.colab.output.renderOutput(dataTable, element);\n",
              "        const docLink = document.createElement('div');\n",
              "        docLink.innerHTML = docLinkHtml;\n",
              "        element.appendChild(docLink);\n",
              "      }\n",
              "    </script>\n",
              "  </div>\n",
              "\n",
              "\n",
              "<div id=\"df-1651796c-74fb-45da-ab37-a4b90db80c5f\">\n",
              "  <button class=\"colab-df-quickchart\" onclick=\"quickchart('df-1651796c-74fb-45da-ab37-a4b90db80c5f')\"\n",
              "            title=\"Suggest charts\"\n",
              "            style=\"display:none;\">\n",
              "\n",
              "<svg xmlns=\"http://www.w3.org/2000/svg\" height=\"24px\"viewBox=\"0 0 24 24\"\n",
              "     width=\"24px\">\n",
              "    <g>\n",
              "        <path d=\"M19 3H5c-1.1 0-2 .9-2 2v14c0 1.1.9 2 2 2h14c1.1 0 2-.9 2-2V5c0-1.1-.9-2-2-2zM9 17H7v-7h2v7zm4 0h-2V7h2v10zm4 0h-2v-4h2v4z\"/>\n",
              "    </g>\n",
              "</svg>\n",
              "  </button>\n",
              "\n",
              "<style>\n",
              "  .colab-df-quickchart {\n",
              "      --bg-color: #E8F0FE;\n",
              "      --fill-color: #1967D2;\n",
              "      --hover-bg-color: #E2EBFA;\n",
              "      --hover-fill-color: #174EA6;\n",
              "      --disabled-fill-color: #AAA;\n",
              "      --disabled-bg-color: #DDD;\n",
              "  }\n",
              "\n",
              "  [theme=dark] .colab-df-quickchart {\n",
              "      --bg-color: #3B4455;\n",
              "      --fill-color: #D2E3FC;\n",
              "      --hover-bg-color: #434B5C;\n",
              "      --hover-fill-color: #FFFFFF;\n",
              "      --disabled-bg-color: #3B4455;\n",
              "      --disabled-fill-color: #666;\n",
              "  }\n",
              "\n",
              "  .colab-df-quickchart {\n",
              "    background-color: var(--bg-color);\n",
              "    border: none;\n",
              "    border-radius: 50%;\n",
              "    cursor: pointer;\n",
              "    display: none;\n",
              "    fill: var(--fill-color);\n",
              "    height: 32px;\n",
              "    padding: 0;\n",
              "    width: 32px;\n",
              "  }\n",
              "\n",
              "  .colab-df-quickchart:hover {\n",
              "    background-color: var(--hover-bg-color);\n",
              "    box-shadow: 0 1px 2px rgba(60, 64, 67, 0.3), 0 1px 3px 1px rgba(60, 64, 67, 0.15);\n",
              "    fill: var(--button-hover-fill-color);\n",
              "  }\n",
              "\n",
              "  .colab-df-quickchart-complete:disabled,\n",
              "  .colab-df-quickchart-complete:disabled:hover {\n",
              "    background-color: var(--disabled-bg-color);\n",
              "    fill: var(--disabled-fill-color);\n",
              "    box-shadow: none;\n",
              "  }\n",
              "\n",
              "  .colab-df-spinner {\n",
              "    border: 2px solid var(--fill-color);\n",
              "    border-color: transparent;\n",
              "    border-bottom-color: var(--fill-color);\n",
              "    animation:\n",
              "      spin 1s steps(1) infinite;\n",
              "  }\n",
              "\n",
              "  @keyframes spin {\n",
              "    0% {\n",
              "      border-color: transparent;\n",
              "      border-bottom-color: var(--fill-color);\n",
              "      border-left-color: var(--fill-color);\n",
              "    }\n",
              "    20% {\n",
              "      border-color: transparent;\n",
              "      border-left-color: var(--fill-color);\n",
              "      border-top-color: var(--fill-color);\n",
              "    }\n",
              "    30% {\n",
              "      border-color: transparent;\n",
              "      border-left-color: var(--fill-color);\n",
              "      border-top-color: var(--fill-color);\n",
              "      border-right-color: var(--fill-color);\n",
              "    }\n",
              "    40% {\n",
              "      border-color: transparent;\n",
              "      border-right-color: var(--fill-color);\n",
              "      border-top-color: var(--fill-color);\n",
              "    }\n",
              "    60% {\n",
              "      border-color: transparent;\n",
              "      border-right-color: var(--fill-color);\n",
              "    }\n",
              "    80% {\n",
              "      border-color: transparent;\n",
              "      border-right-color: var(--fill-color);\n",
              "      border-bottom-color: var(--fill-color);\n",
              "    }\n",
              "    90% {\n",
              "      border-color: transparent;\n",
              "      border-bottom-color: var(--fill-color);\n",
              "    }\n",
              "  }\n",
              "</style>\n",
              "\n",
              "  <script>\n",
              "    async function quickchart(key) {\n",
              "      const quickchartButtonEl =\n",
              "        document.querySelector('#' + key + ' button');\n",
              "      quickchartButtonEl.disabled = true;  // To prevent multiple clicks.\n",
              "      quickchartButtonEl.classList.add('colab-df-spinner');\n",
              "      try {\n",
              "        const charts = await google.colab.kernel.invokeFunction(\n",
              "            'suggestCharts', [key], {});\n",
              "      } catch (error) {\n",
              "        console.error('Error during call to suggestCharts:', error);\n",
              "      }\n",
              "      quickchartButtonEl.classList.remove('colab-df-spinner');\n",
              "      quickchartButtonEl.classList.add('colab-df-quickchart-complete');\n",
              "    }\n",
              "    (() => {\n",
              "      let quickchartButtonEl =\n",
              "        document.querySelector('#df-1651796c-74fb-45da-ab37-a4b90db80c5f button');\n",
              "      quickchartButtonEl.style.display =\n",
              "        google.colab.kernel.accessAllowed ? 'block' : 'none';\n",
              "    })();\n",
              "  </script>\n",
              "</div>\n",
              "    </div>\n",
              "  </div>\n"
            ],
            "application/vnd.google.colaboratory.intrinsic+json": {
              "type": "dataframe",
              "variable_name": "ridgereg_coefficient",
              "summary": "{\n  \"name\": \"ridgereg_coefficient\",\n  \"rows\": 20,\n  \"fields\": [\n    {\n      \"column\": \"Features\",\n      \"properties\": {\n        \"dtype\": \"string\",\n        \"num_unique_values\": 20,\n        \"samples\": [\n          \"LotArea\",\n          \"EnclosedPorch\",\n          \"WoodDeckSF\"\n        ],\n        \"semantic_type\": \"\",\n        \"description\": \"\"\n      }\n    },\n    {\n      \"column\": \"Coef Estimate\",\n      \"properties\": {\n        \"dtype\": \"number\",\n        \"std\": 0.08407923399088005,\n        \"min\": -0.11199517828701454,\n        \"max\": 0.24893068657460973,\n        \"num_unique_values\": 20,\n        \"samples\": [\n          0.07973239165533359,\n          0.003721504796062598,\n          0.033057536195662186\n        ],\n        \"semantic_type\": \"\",\n        \"description\": \"\"\n      }\n    }\n  ]\n}"
            }
          },
          "metadata": {},
          "execution_count": 19
        }
      ]
    },
    {
      "cell_type": "code",
      "source": [
        "print('R squared training set', round(ridge.score(X_train, y_train)*100, 2))\n",
        "print('R squared test set', round(ridge.score(X_test, y_test)*100, 2))"
      ],
      "metadata": {
        "colab": {
          "base_uri": "https://localhost:8080/"
        },
        "id": "E5K9uE8G4Nhb",
        "outputId": "8fe2fa9b-68f1-42e0-eac5-8f87b57f7ccf"
      },
      "execution_count": 20,
      "outputs": [
        {
          "output_type": "stream",
          "name": "stdout",
          "text": [
            "R squared training set 84.91\n",
            "R squared test set 84.47\n"
          ]
        }
      ]
    },
    {
      "cell_type": "code",
      "source": [
        "# Import Lasso\n",
        "from sklearn.linear_model import Lasso\n",
        "# Here we produce results for alpha=0.05 which corresponds to lambda=0.1\n",
        "lasso = Lasso(alpha=0.05)\n",
        "lasso.fit(X_train, y_train)\n",
        "Lasso(alpha=0.05)\n",
        "# DataFrame with corresponding feature and its respective coefficients\n",
        "coeffs = pd.DataFrame(\n",
        "    [\n",
        "        ['intercept'] + list(X_train.columns),\n",
        "        list(lasso.intercept_) + list(lasso.coef_)\n",
        "    ]\n",
        ").transpose().set_index(0)\n",
        "\n",
        "\n",
        "lassoreg_coefficient = pd.DataFrame()\n",
        "lassoreg_coefficient[\"Features\"] = X_train.columns\n",
        "lassoreg_coefficient['Coef Estimate'] = pd.Series(lasso.coef_)\n",
        "lassoreg_coefficient"
      ],
      "metadata": {
        "colab": {
          "base_uri": "https://localhost:8080/",
          "height": 676
        },
        "id": "s1PEyeQw4P-h",
        "outputId": "596a23ca-f84e-4af3-92f0-cc808482efb7"
      },
      "execution_count": 22,
      "outputs": [
        {
          "output_type": "execute_result",
          "data": {
            "text/plain": [
              "         Features  Coef Estimate\n",
              "0         LotArea       0.046485\n",
              "1     OverallQual       0.314018\n",
              "2     OverallCond       0.000000\n",
              "3       YearBuilt       0.061423\n",
              "4    YearRemodAdd       0.058757\n",
              "5     TotalBsmtSF       0.154825\n",
              "6        1stFlrSF       0.059406\n",
              "7        2ndFlrSF       0.000000\n",
              "8       GrLivArea       0.279186\n",
              "9        FullBath       0.000000\n",
              "10       HalfBath       0.000000\n",
              "11   BedroomAbvGr      -0.000000\n",
              "12   TotRmsAbvGrd       0.000000\n",
              "13     Fireplaces       0.032991\n",
              "14     GarageCars       0.090216\n",
              "15     WoodDeckSF       0.014112\n",
              "16    OpenPorchSF       0.002781\n",
              "17  EnclosedPorch      -0.000000\n",
              "18      Bsmt Qual       0.033546\n",
              "19  SaleCondition       0.000000"
            ],
            "text/html": [
              "\n",
              "  <div id=\"df-73241931-7a26-4294-8c08-b5b2803afa93\" class=\"colab-df-container\">\n",
              "    <div>\n",
              "<style scoped>\n",
              "    .dataframe tbody tr th:only-of-type {\n",
              "        vertical-align: middle;\n",
              "    }\n",
              "\n",
              "    .dataframe tbody tr th {\n",
              "        vertical-align: top;\n",
              "    }\n",
              "\n",
              "    .dataframe thead th {\n",
              "        text-align: right;\n",
              "    }\n",
              "</style>\n",
              "<table border=\"1\" class=\"dataframe\">\n",
              "  <thead>\n",
              "    <tr style=\"text-align: right;\">\n",
              "      <th></th>\n",
              "      <th>Features</th>\n",
              "      <th>Coef Estimate</th>\n",
              "    </tr>\n",
              "  </thead>\n",
              "  <tbody>\n",
              "    <tr>\n",
              "      <th>0</th>\n",
              "      <td>LotArea</td>\n",
              "      <td>0.046485</td>\n",
              "    </tr>\n",
              "    <tr>\n",
              "      <th>1</th>\n",
              "      <td>OverallQual</td>\n",
              "      <td>0.314018</td>\n",
              "    </tr>\n",
              "    <tr>\n",
              "      <th>2</th>\n",
              "      <td>OverallCond</td>\n",
              "      <td>0.000000</td>\n",
              "    </tr>\n",
              "    <tr>\n",
              "      <th>3</th>\n",
              "      <td>YearBuilt</td>\n",
              "      <td>0.061423</td>\n",
              "    </tr>\n",
              "    <tr>\n",
              "      <th>4</th>\n",
              "      <td>YearRemodAdd</td>\n",
              "      <td>0.058757</td>\n",
              "    </tr>\n",
              "    <tr>\n",
              "      <th>5</th>\n",
              "      <td>TotalBsmtSF</td>\n",
              "      <td>0.154825</td>\n",
              "    </tr>\n",
              "    <tr>\n",
              "      <th>6</th>\n",
              "      <td>1stFlrSF</td>\n",
              "      <td>0.059406</td>\n",
              "    </tr>\n",
              "    <tr>\n",
              "      <th>7</th>\n",
              "      <td>2ndFlrSF</td>\n",
              "      <td>0.000000</td>\n",
              "    </tr>\n",
              "    <tr>\n",
              "      <th>8</th>\n",
              "      <td>GrLivArea</td>\n",
              "      <td>0.279186</td>\n",
              "    </tr>\n",
              "    <tr>\n",
              "      <th>9</th>\n",
              "      <td>FullBath</td>\n",
              "      <td>0.000000</td>\n",
              "    </tr>\n",
              "    <tr>\n",
              "      <th>10</th>\n",
              "      <td>HalfBath</td>\n",
              "      <td>0.000000</td>\n",
              "    </tr>\n",
              "    <tr>\n",
              "      <th>11</th>\n",
              "      <td>BedroomAbvGr</td>\n",
              "      <td>-0.000000</td>\n",
              "    </tr>\n",
              "    <tr>\n",
              "      <th>12</th>\n",
              "      <td>TotRmsAbvGrd</td>\n",
              "      <td>0.000000</td>\n",
              "    </tr>\n",
              "    <tr>\n",
              "      <th>13</th>\n",
              "      <td>Fireplaces</td>\n",
              "      <td>0.032991</td>\n",
              "    </tr>\n",
              "    <tr>\n",
              "      <th>14</th>\n",
              "      <td>GarageCars</td>\n",
              "      <td>0.090216</td>\n",
              "    </tr>\n",
              "    <tr>\n",
              "      <th>15</th>\n",
              "      <td>WoodDeckSF</td>\n",
              "      <td>0.014112</td>\n",
              "    </tr>\n",
              "    <tr>\n",
              "      <th>16</th>\n",
              "      <td>OpenPorchSF</td>\n",
              "      <td>0.002781</td>\n",
              "    </tr>\n",
              "    <tr>\n",
              "      <th>17</th>\n",
              "      <td>EnclosedPorch</td>\n",
              "      <td>-0.000000</td>\n",
              "    </tr>\n",
              "    <tr>\n",
              "      <th>18</th>\n",
              "      <td>Bsmt Qual</td>\n",
              "      <td>0.033546</td>\n",
              "    </tr>\n",
              "    <tr>\n",
              "      <th>19</th>\n",
              "      <td>SaleCondition</td>\n",
              "      <td>0.000000</td>\n",
              "    </tr>\n",
              "  </tbody>\n",
              "</table>\n",
              "</div>\n",
              "    <div class=\"colab-df-buttons\">\n",
              "\n",
              "  <div class=\"colab-df-container\">\n",
              "    <button class=\"colab-df-convert\" onclick=\"convertToInteractive('df-73241931-7a26-4294-8c08-b5b2803afa93')\"\n",
              "            title=\"Convert this dataframe to an interactive table.\"\n",
              "            style=\"display:none;\">\n",
              "\n",
              "  <svg xmlns=\"http://www.w3.org/2000/svg\" height=\"24px\" viewBox=\"0 -960 960 960\">\n",
              "    <path d=\"M120-120v-720h720v720H120Zm60-500h600v-160H180v160Zm220 220h160v-160H400v160Zm0 220h160v-160H400v160ZM180-400h160v-160H180v160Zm440 0h160v-160H620v160ZM180-180h160v-160H180v160Zm440 0h160v-160H620v160Z\"/>\n",
              "  </svg>\n",
              "    </button>\n",
              "\n",
              "  <style>\n",
              "    .colab-df-container {\n",
              "      display:flex;\n",
              "      gap: 12px;\n",
              "    }\n",
              "\n",
              "    .colab-df-convert {\n",
              "      background-color: #E8F0FE;\n",
              "      border: none;\n",
              "      border-radius: 50%;\n",
              "      cursor: pointer;\n",
              "      display: none;\n",
              "      fill: #1967D2;\n",
              "      height: 32px;\n",
              "      padding: 0 0 0 0;\n",
              "      width: 32px;\n",
              "    }\n",
              "\n",
              "    .colab-df-convert:hover {\n",
              "      background-color: #E2EBFA;\n",
              "      box-shadow: 0px 1px 2px rgba(60, 64, 67, 0.3), 0px 1px 3px 1px rgba(60, 64, 67, 0.15);\n",
              "      fill: #174EA6;\n",
              "    }\n",
              "\n",
              "    .colab-df-buttons div {\n",
              "      margin-bottom: 4px;\n",
              "    }\n",
              "\n",
              "    [theme=dark] .colab-df-convert {\n",
              "      background-color: #3B4455;\n",
              "      fill: #D2E3FC;\n",
              "    }\n",
              "\n",
              "    [theme=dark] .colab-df-convert:hover {\n",
              "      background-color: #434B5C;\n",
              "      box-shadow: 0px 1px 3px 1px rgba(0, 0, 0, 0.15);\n",
              "      filter: drop-shadow(0px 1px 2px rgba(0, 0, 0, 0.3));\n",
              "      fill: #FFFFFF;\n",
              "    }\n",
              "  </style>\n",
              "\n",
              "    <script>\n",
              "      const buttonEl =\n",
              "        document.querySelector('#df-73241931-7a26-4294-8c08-b5b2803afa93 button.colab-df-convert');\n",
              "      buttonEl.style.display =\n",
              "        google.colab.kernel.accessAllowed ? 'block' : 'none';\n",
              "\n",
              "      async function convertToInteractive(key) {\n",
              "        const element = document.querySelector('#df-73241931-7a26-4294-8c08-b5b2803afa93');\n",
              "        const dataTable =\n",
              "          await google.colab.kernel.invokeFunction('convertToInteractive',\n",
              "                                                    [key], {});\n",
              "        if (!dataTable) return;\n",
              "\n",
              "        const docLinkHtml = 'Like what you see? Visit the ' +\n",
              "          '<a target=\"_blank\" href=https://colab.research.google.com/notebooks/data_table.ipynb>data table notebook</a>'\n",
              "          + ' to learn more about interactive tables.';\n",
              "        element.innerHTML = '';\n",
              "        dataTable['output_type'] = 'display_data';\n",
              "        await google.colab.output.renderOutput(dataTable, element);\n",
              "        const docLink = document.createElement('div');\n",
              "        docLink.innerHTML = docLinkHtml;\n",
              "        element.appendChild(docLink);\n",
              "      }\n",
              "    </script>\n",
              "  </div>\n",
              "\n",
              "\n",
              "<div id=\"df-9d987da3-02be-4318-b918-588dd8bf8bb4\">\n",
              "  <button class=\"colab-df-quickchart\" onclick=\"quickchart('df-9d987da3-02be-4318-b918-588dd8bf8bb4')\"\n",
              "            title=\"Suggest charts\"\n",
              "            style=\"display:none;\">\n",
              "\n",
              "<svg xmlns=\"http://www.w3.org/2000/svg\" height=\"24px\"viewBox=\"0 0 24 24\"\n",
              "     width=\"24px\">\n",
              "    <g>\n",
              "        <path d=\"M19 3H5c-1.1 0-2 .9-2 2v14c0 1.1.9 2 2 2h14c1.1 0 2-.9 2-2V5c0-1.1-.9-2-2-2zM9 17H7v-7h2v7zm4 0h-2V7h2v10zm4 0h-2v-4h2v4z\"/>\n",
              "    </g>\n",
              "</svg>\n",
              "  </button>\n",
              "\n",
              "<style>\n",
              "  .colab-df-quickchart {\n",
              "      --bg-color: #E8F0FE;\n",
              "      --fill-color: #1967D2;\n",
              "      --hover-bg-color: #E2EBFA;\n",
              "      --hover-fill-color: #174EA6;\n",
              "      --disabled-fill-color: #AAA;\n",
              "      --disabled-bg-color: #DDD;\n",
              "  }\n",
              "\n",
              "  [theme=dark] .colab-df-quickchart {\n",
              "      --bg-color: #3B4455;\n",
              "      --fill-color: #D2E3FC;\n",
              "      --hover-bg-color: #434B5C;\n",
              "      --hover-fill-color: #FFFFFF;\n",
              "      --disabled-bg-color: #3B4455;\n",
              "      --disabled-fill-color: #666;\n",
              "  }\n",
              "\n",
              "  .colab-df-quickchart {\n",
              "    background-color: var(--bg-color);\n",
              "    border: none;\n",
              "    border-radius: 50%;\n",
              "    cursor: pointer;\n",
              "    display: none;\n",
              "    fill: var(--fill-color);\n",
              "    height: 32px;\n",
              "    padding: 0;\n",
              "    width: 32px;\n",
              "  }\n",
              "\n",
              "  .colab-df-quickchart:hover {\n",
              "    background-color: var(--hover-bg-color);\n",
              "    box-shadow: 0 1px 2px rgba(60, 64, 67, 0.3), 0 1px 3px 1px rgba(60, 64, 67, 0.15);\n",
              "    fill: var(--button-hover-fill-color);\n",
              "  }\n",
              "\n",
              "  .colab-df-quickchart-complete:disabled,\n",
              "  .colab-df-quickchart-complete:disabled:hover {\n",
              "    background-color: var(--disabled-bg-color);\n",
              "    fill: var(--disabled-fill-color);\n",
              "    box-shadow: none;\n",
              "  }\n",
              "\n",
              "  .colab-df-spinner {\n",
              "    border: 2px solid var(--fill-color);\n",
              "    border-color: transparent;\n",
              "    border-bottom-color: var(--fill-color);\n",
              "    animation:\n",
              "      spin 1s steps(1) infinite;\n",
              "  }\n",
              "\n",
              "  @keyframes spin {\n",
              "    0% {\n",
              "      border-color: transparent;\n",
              "      border-bottom-color: var(--fill-color);\n",
              "      border-left-color: var(--fill-color);\n",
              "    }\n",
              "    20% {\n",
              "      border-color: transparent;\n",
              "      border-left-color: var(--fill-color);\n",
              "      border-top-color: var(--fill-color);\n",
              "    }\n",
              "    30% {\n",
              "      border-color: transparent;\n",
              "      border-left-color: var(--fill-color);\n",
              "      border-top-color: var(--fill-color);\n",
              "      border-right-color: var(--fill-color);\n",
              "    }\n",
              "    40% {\n",
              "      border-color: transparent;\n",
              "      border-right-color: var(--fill-color);\n",
              "      border-top-color: var(--fill-color);\n",
              "    }\n",
              "    60% {\n",
              "      border-color: transparent;\n",
              "      border-right-color: var(--fill-color);\n",
              "    }\n",
              "    80% {\n",
              "      border-color: transparent;\n",
              "      border-right-color: var(--fill-color);\n",
              "      border-bottom-color: var(--fill-color);\n",
              "    }\n",
              "    90% {\n",
              "      border-color: transparent;\n",
              "      border-bottom-color: var(--fill-color);\n",
              "    }\n",
              "  }\n",
              "</style>\n",
              "\n",
              "  <script>\n",
              "    async function quickchart(key) {\n",
              "      const quickchartButtonEl =\n",
              "        document.querySelector('#' + key + ' button');\n",
              "      quickchartButtonEl.disabled = true;  // To prevent multiple clicks.\n",
              "      quickchartButtonEl.classList.add('colab-df-spinner');\n",
              "      try {\n",
              "        const charts = await google.colab.kernel.invokeFunction(\n",
              "            'suggestCharts', [key], {});\n",
              "      } catch (error) {\n",
              "        console.error('Error during call to suggestCharts:', error);\n",
              "      }\n",
              "      quickchartButtonEl.classList.remove('colab-df-spinner');\n",
              "      quickchartButtonEl.classList.add('colab-df-quickchart-complete');\n",
              "    }\n",
              "    (() => {\n",
              "      let quickchartButtonEl =\n",
              "        document.querySelector('#df-9d987da3-02be-4318-b918-588dd8bf8bb4 button');\n",
              "      quickchartButtonEl.style.display =\n",
              "        google.colab.kernel.accessAllowed ? 'block' : 'none';\n",
              "    })();\n",
              "  </script>\n",
              "</div>\n",
              "    </div>\n",
              "  </div>\n"
            ],
            "application/vnd.google.colaboratory.intrinsic+json": {
              "type": "dataframe",
              "variable_name": "lassoreg_coefficient",
              "summary": "{\n  \"name\": \"lassoreg_coefficient\",\n  \"rows\": 20,\n  \"fields\": [\n    {\n      \"column\": \"Features\",\n      \"properties\": {\n        \"dtype\": \"string\",\n        \"num_unique_values\": 20,\n        \"samples\": [\n          \"LotArea\",\n          \"EnclosedPorch\",\n          \"WoodDeckSF\"\n        ],\n        \"semantic_type\": \"\",\n        \"description\": \"\"\n      }\n    },\n    {\n      \"column\": \"Coef Estimate\",\n      \"properties\": {\n        \"dtype\": \"number\",\n        \"std\": 0.09122890376634807,\n        \"min\": 0.0,\n        \"max\": 0.3140182014099387,\n        \"num_unique_values\": 13,\n        \"samples\": [\n          0.002781363533102034,\n          0.09021638910260016,\n          0.04648499105497564\n        ],\n        \"semantic_type\": \"\",\n        \"description\": \"\"\n      }\n    }\n  ]\n}"
            }
          },
          "metadata": {},
          "execution_count": 22
        }
      ]
    },
    {
      "cell_type": "code",
      "source": [
        "from sklearn.linear_model import LassoCV\n",
        "regr_cv= LassoCV(alphas = None, cv = 10, max_iter = 100000)\n",
        "model_cv2=regr_cv.fit(X_train,y_train)\n",
        "model_cv2.alpha_"
      ],
      "metadata": {
        "colab": {
          "base_uri": "https://localhost:8080/"
        },
        "id": "r2Rakq7Knyga",
        "outputId": "c709a3c5-dd92-4cd8-bb10-a3bfc0b404e2"
      },
      "execution_count": 26,
      "outputs": [
        {
          "output_type": "stream",
          "name": "stderr",
          "text": [
            "/usr/local/lib/python3.10/dist-packages/sklearn/linear_model/_coordinate_descent.py:1568: DataConversionWarning: A column-vector y was passed when a 1d array was expected. Please change the shape of y to (n_samples, ), for example using ravel().\n",
            "  y = column_or_1d(y, warn=True)\n"
          ]
        },
        {
          "output_type": "execute_result",
          "data": {
            "text/plain": [
              "0.005257212340819712"
            ]
          },
          "metadata": {},
          "execution_count": 26
        }
      ]
    },
    {
      "cell_type": "code",
      "source": [
        "# MSE at the training dataset\n",
        "lasso=Lasso(alpha=model_cv2.alpha_)\n",
        "lasso.fit(X_train,y_train)\n",
        "pred=lasso.predict(X_train)\n",
        "print(mse(y_train,pred))"
      ],
      "metadata": {
        "colab": {
          "base_uri": "https://localhost:8080/"
        },
        "id": "jy4_88ysn3mB",
        "outputId": "3550b190-0427-4f2b-af58-72ffef44c456"
      },
      "execution_count": 27,
      "outputs": [
        {
          "output_type": "stream",
          "name": "stdout",
          "text": [
            "0.1508915700782594\n"
          ]
        }
      ]
    },
    {
      "cell_type": "code",
      "source": [
        "# MSE at the validation dataset\n",
        "lasso=Lasso(alpha=model_cv2.alpha_)\n",
        "lasso.fit(X_train,y_train)\n",
        "pred=lasso.predict(X_val)\n",
        "print(mse(y_val,pred))"
      ],
      "metadata": {
        "colab": {
          "base_uri": "https://localhost:8080/"
        },
        "id": "oM-x7pLdnz2n",
        "outputId": "25150c8a-76d0-42a8-91aa-9e49313998d6"
      },
      "execution_count": 28,
      "outputs": [
        {
          "output_type": "stream",
          "name": "stdout",
          "text": [
            "0.1558443777074287\n"
          ]
        }
      ]
    },
    {
      "cell_type": "code",
      "source": [
        "print('R squared training set', round(lasso.score(X_train, y_train)*100, 2))\n",
        "print('R squared test set', round(lasso.score(X_test, y_test)*100, 2))"
      ],
      "metadata": {
        "colab": {
          "base_uri": "https://localhost:8080/"
        },
        "id": "YjhYbGcxofmL",
        "outputId": "9a0deef7-71fc-4c89-b5fe-07292a4d339c"
      },
      "execution_count": 37,
      "outputs": [
        {
          "output_type": "stream",
          "name": "stdout",
          "text": [
            "R squared training set 84.9\n",
            "R squared test set 84.6\n"
          ]
        }
      ]
    },
    {
      "cell_type": "code",
      "source": [
        "# Elastic Net\n",
        "# import model\n",
        "from sklearn.linear_model import ElasticNet\n",
        "\n",
        "# Here we produce results for alpha=0.05 which corresponds to lambda=0.1\n",
        "e_net = ElasticNet(alpha=0.05)\n",
        "e_net.fit(X_train, y_train)\n",
        "\n",
        "# DataFrame with corresponding feature and its respective coefficients\n",
        "coeffs = pd.DataFrame(\n",
        "    [\n",
        "        ['intercept'] + list(X_train.columns),\n",
        "        list(e_net.intercept_) + list(e_net.coef_)\n",
        "    ]\n",
        ").transpose().set_index(0)\n",
        "\n",
        "\n",
        "enetreg_coefficient = pd.DataFrame()\n",
        "enetreg_coefficient[\"Features\"] = X_train.columns\n",
        "enetreg_coefficient['Coef Estimate'] = pd.Series(e_net.coef_)\n",
        "enetreg_coefficient"
      ],
      "metadata": {
        "colab": {
          "base_uri": "https://localhost:8080/",
          "height": 676
        },
        "id": "PCMZr5Mp6Imr",
        "outputId": "7707e378-a128-40eb-82b4-7cbec46a546f"
      },
      "execution_count": 29,
      "outputs": [
        {
          "output_type": "execute_result",
          "data": {
            "text/plain": [
              "         Features  Coef Estimate\n",
              "0         LotArea       0.063037\n",
              "1     OverallQual       0.280857\n",
              "2     OverallCond       0.038926\n",
              "3       YearBuilt       0.097929\n",
              "4    YearRemodAdd       0.049479\n",
              "5     TotalBsmtSF       0.148637\n",
              "6        1stFlrSF       0.069357\n",
              "7        2ndFlrSF       0.000000\n",
              "8       GrLivArea       0.310337\n",
              "9        FullBath      -0.000000\n",
              "10       HalfBath       0.000000\n",
              "11   BedroomAbvGr      -0.046337\n",
              "12   TotRmsAbvGrd       0.008615\n",
              "13     Fireplaces       0.039954\n",
              "14     GarageCars       0.092629\n",
              "15     WoodDeckSF       0.023719\n",
              "16    OpenPorchSF       0.019365\n",
              "17  EnclosedPorch      -0.000000\n",
              "18      Bsmt Qual       0.043417\n",
              "19  SaleCondition       0.000000"
            ],
            "text/html": [
              "\n",
              "  <div id=\"df-6f267dd9-ca5b-4a74-a265-0ac96435cb1c\" class=\"colab-df-container\">\n",
              "    <div>\n",
              "<style scoped>\n",
              "    .dataframe tbody tr th:only-of-type {\n",
              "        vertical-align: middle;\n",
              "    }\n",
              "\n",
              "    .dataframe tbody tr th {\n",
              "        vertical-align: top;\n",
              "    }\n",
              "\n",
              "    .dataframe thead th {\n",
              "        text-align: right;\n",
              "    }\n",
              "</style>\n",
              "<table border=\"1\" class=\"dataframe\">\n",
              "  <thead>\n",
              "    <tr style=\"text-align: right;\">\n",
              "      <th></th>\n",
              "      <th>Features</th>\n",
              "      <th>Coef Estimate</th>\n",
              "    </tr>\n",
              "  </thead>\n",
              "  <tbody>\n",
              "    <tr>\n",
              "      <th>0</th>\n",
              "      <td>LotArea</td>\n",
              "      <td>0.063037</td>\n",
              "    </tr>\n",
              "    <tr>\n",
              "      <th>1</th>\n",
              "      <td>OverallQual</td>\n",
              "      <td>0.280857</td>\n",
              "    </tr>\n",
              "    <tr>\n",
              "      <th>2</th>\n",
              "      <td>OverallCond</td>\n",
              "      <td>0.038926</td>\n",
              "    </tr>\n",
              "    <tr>\n",
              "      <th>3</th>\n",
              "      <td>YearBuilt</td>\n",
              "      <td>0.097929</td>\n",
              "    </tr>\n",
              "    <tr>\n",
              "      <th>4</th>\n",
              "      <td>YearRemodAdd</td>\n",
              "      <td>0.049479</td>\n",
              "    </tr>\n",
              "    <tr>\n",
              "      <th>5</th>\n",
              "      <td>TotalBsmtSF</td>\n",
              "      <td>0.148637</td>\n",
              "    </tr>\n",
              "    <tr>\n",
              "      <th>6</th>\n",
              "      <td>1stFlrSF</td>\n",
              "      <td>0.069357</td>\n",
              "    </tr>\n",
              "    <tr>\n",
              "      <th>7</th>\n",
              "      <td>2ndFlrSF</td>\n",
              "      <td>0.000000</td>\n",
              "    </tr>\n",
              "    <tr>\n",
              "      <th>8</th>\n",
              "      <td>GrLivArea</td>\n",
              "      <td>0.310337</td>\n",
              "    </tr>\n",
              "    <tr>\n",
              "      <th>9</th>\n",
              "      <td>FullBath</td>\n",
              "      <td>-0.000000</td>\n",
              "    </tr>\n",
              "    <tr>\n",
              "      <th>10</th>\n",
              "      <td>HalfBath</td>\n",
              "      <td>0.000000</td>\n",
              "    </tr>\n",
              "    <tr>\n",
              "      <th>11</th>\n",
              "      <td>BedroomAbvGr</td>\n",
              "      <td>-0.046337</td>\n",
              "    </tr>\n",
              "    <tr>\n",
              "      <th>12</th>\n",
              "      <td>TotRmsAbvGrd</td>\n",
              "      <td>0.008615</td>\n",
              "    </tr>\n",
              "    <tr>\n",
              "      <th>13</th>\n",
              "      <td>Fireplaces</td>\n",
              "      <td>0.039954</td>\n",
              "    </tr>\n",
              "    <tr>\n",
              "      <th>14</th>\n",
              "      <td>GarageCars</td>\n",
              "      <td>0.092629</td>\n",
              "    </tr>\n",
              "    <tr>\n",
              "      <th>15</th>\n",
              "      <td>WoodDeckSF</td>\n",
              "      <td>0.023719</td>\n",
              "    </tr>\n",
              "    <tr>\n",
              "      <th>16</th>\n",
              "      <td>OpenPorchSF</td>\n",
              "      <td>0.019365</td>\n",
              "    </tr>\n",
              "    <tr>\n",
              "      <th>17</th>\n",
              "      <td>EnclosedPorch</td>\n",
              "      <td>-0.000000</td>\n",
              "    </tr>\n",
              "    <tr>\n",
              "      <th>18</th>\n",
              "      <td>Bsmt Qual</td>\n",
              "      <td>0.043417</td>\n",
              "    </tr>\n",
              "    <tr>\n",
              "      <th>19</th>\n",
              "      <td>SaleCondition</td>\n",
              "      <td>0.000000</td>\n",
              "    </tr>\n",
              "  </tbody>\n",
              "</table>\n",
              "</div>\n",
              "    <div class=\"colab-df-buttons\">\n",
              "\n",
              "  <div class=\"colab-df-container\">\n",
              "    <button class=\"colab-df-convert\" onclick=\"convertToInteractive('df-6f267dd9-ca5b-4a74-a265-0ac96435cb1c')\"\n",
              "            title=\"Convert this dataframe to an interactive table.\"\n",
              "            style=\"display:none;\">\n",
              "\n",
              "  <svg xmlns=\"http://www.w3.org/2000/svg\" height=\"24px\" viewBox=\"0 -960 960 960\">\n",
              "    <path d=\"M120-120v-720h720v720H120Zm60-500h600v-160H180v160Zm220 220h160v-160H400v160Zm0 220h160v-160H400v160ZM180-400h160v-160H180v160Zm440 0h160v-160H620v160ZM180-180h160v-160H180v160Zm440 0h160v-160H620v160Z\"/>\n",
              "  </svg>\n",
              "    </button>\n",
              "\n",
              "  <style>\n",
              "    .colab-df-container {\n",
              "      display:flex;\n",
              "      gap: 12px;\n",
              "    }\n",
              "\n",
              "    .colab-df-convert {\n",
              "      background-color: #E8F0FE;\n",
              "      border: none;\n",
              "      border-radius: 50%;\n",
              "      cursor: pointer;\n",
              "      display: none;\n",
              "      fill: #1967D2;\n",
              "      height: 32px;\n",
              "      padding: 0 0 0 0;\n",
              "      width: 32px;\n",
              "    }\n",
              "\n",
              "    .colab-df-convert:hover {\n",
              "      background-color: #E2EBFA;\n",
              "      box-shadow: 0px 1px 2px rgba(60, 64, 67, 0.3), 0px 1px 3px 1px rgba(60, 64, 67, 0.15);\n",
              "      fill: #174EA6;\n",
              "    }\n",
              "\n",
              "    .colab-df-buttons div {\n",
              "      margin-bottom: 4px;\n",
              "    }\n",
              "\n",
              "    [theme=dark] .colab-df-convert {\n",
              "      background-color: #3B4455;\n",
              "      fill: #D2E3FC;\n",
              "    }\n",
              "\n",
              "    [theme=dark] .colab-df-convert:hover {\n",
              "      background-color: #434B5C;\n",
              "      box-shadow: 0px 1px 3px 1px rgba(0, 0, 0, 0.15);\n",
              "      filter: drop-shadow(0px 1px 2px rgba(0, 0, 0, 0.3));\n",
              "      fill: #FFFFFF;\n",
              "    }\n",
              "  </style>\n",
              "\n",
              "    <script>\n",
              "      const buttonEl =\n",
              "        document.querySelector('#df-6f267dd9-ca5b-4a74-a265-0ac96435cb1c button.colab-df-convert');\n",
              "      buttonEl.style.display =\n",
              "        google.colab.kernel.accessAllowed ? 'block' : 'none';\n",
              "\n",
              "      async function convertToInteractive(key) {\n",
              "        const element = document.querySelector('#df-6f267dd9-ca5b-4a74-a265-0ac96435cb1c');\n",
              "        const dataTable =\n",
              "          await google.colab.kernel.invokeFunction('convertToInteractive',\n",
              "                                                    [key], {});\n",
              "        if (!dataTable) return;\n",
              "\n",
              "        const docLinkHtml = 'Like what you see? Visit the ' +\n",
              "          '<a target=\"_blank\" href=https://colab.research.google.com/notebooks/data_table.ipynb>data table notebook</a>'\n",
              "          + ' to learn more about interactive tables.';\n",
              "        element.innerHTML = '';\n",
              "        dataTable['output_type'] = 'display_data';\n",
              "        await google.colab.output.renderOutput(dataTable, element);\n",
              "        const docLink = document.createElement('div');\n",
              "        docLink.innerHTML = docLinkHtml;\n",
              "        element.appendChild(docLink);\n",
              "      }\n",
              "    </script>\n",
              "  </div>\n",
              "\n",
              "\n",
              "<div id=\"df-2d506026-7f50-4e65-a208-12e22bf6676a\">\n",
              "  <button class=\"colab-df-quickchart\" onclick=\"quickchart('df-2d506026-7f50-4e65-a208-12e22bf6676a')\"\n",
              "            title=\"Suggest charts\"\n",
              "            style=\"display:none;\">\n",
              "\n",
              "<svg xmlns=\"http://www.w3.org/2000/svg\" height=\"24px\"viewBox=\"0 0 24 24\"\n",
              "     width=\"24px\">\n",
              "    <g>\n",
              "        <path d=\"M19 3H5c-1.1 0-2 .9-2 2v14c0 1.1.9 2 2 2h14c1.1 0 2-.9 2-2V5c0-1.1-.9-2-2-2zM9 17H7v-7h2v7zm4 0h-2V7h2v10zm4 0h-2v-4h2v4z\"/>\n",
              "    </g>\n",
              "</svg>\n",
              "  </button>\n",
              "\n",
              "<style>\n",
              "  .colab-df-quickchart {\n",
              "      --bg-color: #E8F0FE;\n",
              "      --fill-color: #1967D2;\n",
              "      --hover-bg-color: #E2EBFA;\n",
              "      --hover-fill-color: #174EA6;\n",
              "      --disabled-fill-color: #AAA;\n",
              "      --disabled-bg-color: #DDD;\n",
              "  }\n",
              "\n",
              "  [theme=dark] .colab-df-quickchart {\n",
              "      --bg-color: #3B4455;\n",
              "      --fill-color: #D2E3FC;\n",
              "      --hover-bg-color: #434B5C;\n",
              "      --hover-fill-color: #FFFFFF;\n",
              "      --disabled-bg-color: #3B4455;\n",
              "      --disabled-fill-color: #666;\n",
              "  }\n",
              "\n",
              "  .colab-df-quickchart {\n",
              "    background-color: var(--bg-color);\n",
              "    border: none;\n",
              "    border-radius: 50%;\n",
              "    cursor: pointer;\n",
              "    display: none;\n",
              "    fill: var(--fill-color);\n",
              "    height: 32px;\n",
              "    padding: 0;\n",
              "    width: 32px;\n",
              "  }\n",
              "\n",
              "  .colab-df-quickchart:hover {\n",
              "    background-color: var(--hover-bg-color);\n",
              "    box-shadow: 0 1px 2px rgba(60, 64, 67, 0.3), 0 1px 3px 1px rgba(60, 64, 67, 0.15);\n",
              "    fill: var(--button-hover-fill-color);\n",
              "  }\n",
              "\n",
              "  .colab-df-quickchart-complete:disabled,\n",
              "  .colab-df-quickchart-complete:disabled:hover {\n",
              "    background-color: var(--disabled-bg-color);\n",
              "    fill: var(--disabled-fill-color);\n",
              "    box-shadow: none;\n",
              "  }\n",
              "\n",
              "  .colab-df-spinner {\n",
              "    border: 2px solid var(--fill-color);\n",
              "    border-color: transparent;\n",
              "    border-bottom-color: var(--fill-color);\n",
              "    animation:\n",
              "      spin 1s steps(1) infinite;\n",
              "  }\n",
              "\n",
              "  @keyframes spin {\n",
              "    0% {\n",
              "      border-color: transparent;\n",
              "      border-bottom-color: var(--fill-color);\n",
              "      border-left-color: var(--fill-color);\n",
              "    }\n",
              "    20% {\n",
              "      border-color: transparent;\n",
              "      border-left-color: var(--fill-color);\n",
              "      border-top-color: var(--fill-color);\n",
              "    }\n",
              "    30% {\n",
              "      border-color: transparent;\n",
              "      border-left-color: var(--fill-color);\n",
              "      border-top-color: var(--fill-color);\n",
              "      border-right-color: var(--fill-color);\n",
              "    }\n",
              "    40% {\n",
              "      border-color: transparent;\n",
              "      border-right-color: var(--fill-color);\n",
              "      border-top-color: var(--fill-color);\n",
              "    }\n",
              "    60% {\n",
              "      border-color: transparent;\n",
              "      border-right-color: var(--fill-color);\n",
              "    }\n",
              "    80% {\n",
              "      border-color: transparent;\n",
              "      border-right-color: var(--fill-color);\n",
              "      border-bottom-color: var(--fill-color);\n",
              "    }\n",
              "    90% {\n",
              "      border-color: transparent;\n",
              "      border-bottom-color: var(--fill-color);\n",
              "    }\n",
              "  }\n",
              "</style>\n",
              "\n",
              "  <script>\n",
              "    async function quickchart(key) {\n",
              "      const quickchartButtonEl =\n",
              "        document.querySelector('#' + key + ' button');\n",
              "      quickchartButtonEl.disabled = true;  // To prevent multiple clicks.\n",
              "      quickchartButtonEl.classList.add('colab-df-spinner');\n",
              "      try {\n",
              "        const charts = await google.colab.kernel.invokeFunction(\n",
              "            'suggestCharts', [key], {});\n",
              "      } catch (error) {\n",
              "        console.error('Error during call to suggestCharts:', error);\n",
              "      }\n",
              "      quickchartButtonEl.classList.remove('colab-df-spinner');\n",
              "      quickchartButtonEl.classList.add('colab-df-quickchart-complete');\n",
              "    }\n",
              "    (() => {\n",
              "      let quickchartButtonEl =\n",
              "        document.querySelector('#df-2d506026-7f50-4e65-a208-12e22bf6676a button');\n",
              "      quickchartButtonEl.style.display =\n",
              "        google.colab.kernel.accessAllowed ? 'block' : 'none';\n",
              "    })();\n",
              "  </script>\n",
              "</div>\n",
              "    </div>\n",
              "  </div>\n"
            ],
            "application/vnd.google.colaboratory.intrinsic+json": {
              "type": "dataframe",
              "variable_name": "enetreg_coefficient",
              "summary": "{\n  \"name\": \"enetreg_coefficient\",\n  \"rows\": 20,\n  \"fields\": [\n    {\n      \"column\": \"Features\",\n      \"properties\": {\n        \"dtype\": \"string\",\n        \"num_unique_values\": 20,\n        \"samples\": [\n          \"LotArea\",\n          \"EnclosedPorch\",\n          \"WoodDeckSF\"\n        ],\n        \"semantic_type\": \"\",\n        \"description\": \"\"\n      }\n    },\n    {\n      \"column\": \"Coef Estimate\",\n      \"properties\": {\n        \"dtype\": \"number\",\n        \"std\": 0.09118241718399511,\n        \"min\": -0.04633710703615837,\n        \"max\": 0.31033683053877514,\n        \"num_unique_values\": 16,\n        \"samples\": [\n          0.06303678654018709,\n          0.2808570295780645,\n          0.14863723085704503\n        ],\n        \"semantic_type\": \"\",\n        \"description\": \"\"\n      }\n    }\n  ]\n}"
            }
          },
          "metadata": {},
          "execution_count": 29
        }
      ]
    },
    {
      "cell_type": "code",
      "source": [
        "ypred = e_net.predict(X_test)\n",
        "score = e_net.score(X_test, y_test)\n",
        "scoreΣ"
      ],
      "metadata": {
        "colab": {
          "base_uri": "https://localhost:8080/"
        },
        "id": "ZXyQ4c_T6WgU",
        "outputId": "ee8a82fd-98a0-4fef-e434-c901653919b1"
      },
      "execution_count": 31,
      "outputs": [
        {
          "output_type": "execute_result",
          "data": {
            "text/plain": [
              "0.840296528434941"
            ]
          },
          "metadata": {},
          "execution_count": 31
        }
      ]
    },
    {
      "cell_type": "code",
      "source": [
        "#ENET with different levels of alpha and its mse\n",
        "# We now consider different lambda values. The alphas are half the lambdas\n",
        "alphas=[0.01/2, 0.02/2, 0.03/2, 0.04/2, 0.05/2, 0.075/2, 0.1/2]\n",
        "mses=[]\n",
        "for alpha in alphas:\n",
        "    e_net =ElasticNet(alpha=alpha)\n",
        "    e_net.fit(X_train,y_train)\n",
        "    pred=e_net.predict(X_val)\n",
        "    mses.append(mse(y_val,pred))\n",
        "    print(mse(y_val, pred))"
      ],
      "metadata": {
        "colab": {
          "base_uri": "https://localhost:8080/"
        },
        "id": "Igf_-wbN6biw",
        "outputId": "76a1d13b-871e-4e22-a4e3-f5c666c73c37"
      },
      "execution_count": 32,
      "outputs": [
        {
          "output_type": "stream",
          "name": "stdout",
          "text": [
            "0.1551782534695214\n",
            "0.15583247394661393\n",
            "0.15675057232284687\n",
            "0.15782691108609945\n",
            "0.15915362545736816\n",
            "0.1612311838733405\n",
            "0.16399555386936288\n"
          ]
        }
      ]
    },
    {
      "cell_type": "code",
      "source": [
        "plt.xlabel('lamda')\n",
        "plt.ylabel('mse')\n",
        "lamdas = [i *2 for i in alphas]\n",
        "plt.plot(lamdas, mses)"
      ],
      "metadata": {
        "colab": {
          "base_uri": "https://localhost:8080/",
          "height": 466
        },
        "id": "dC7--pWb6eJZ",
        "outputId": "9c51a4e4-f262-4a0b-c363-ec0979142c87"
      },
      "execution_count": 33,
      "outputs": [
        {
          "output_type": "execute_result",
          "data": {
            "text/plain": [
              "[<matplotlib.lines.Line2D at 0x78aedb0495a0>]"
            ]
          },
          "metadata": {},
          "execution_count": 33
        },
        {
          "output_type": "display_data",
          "data": {
            "text/plain": [
              "<Figure size 640x480 with 1 Axes>"
            ],
            "image/png": "[encoded data removed]"
          },
          "metadata": {}
        }
      ]
    },
    {
      "cell_type": "code",
      "source": [
        "##We can also select the alpha using the cross-validated ridge regression function, ElasticNetCV().\n",
        "##Fit Enet regression through cross validation\n",
        "\n",
        "from sklearn.linear_model import ElasticNetCV\n",
        "regr_cv= ElasticNetCV(alphas = None, cv = 10, max_iter = 100000)\n",
        "#regr_cv=LassoCV(alphas=range(1,50))\n",
        "model_cv2=regr_cv.fit(X_train,y_train)\n",
        "model_cv2.alpha_"
      ],
      "metadata": {
        "colab": {
          "base_uri": "https://localhost:8080/"
        },
        "id": "QGq16mx76yAj",
        "outputId": "16993db7-eed5-4d48-e622-73f498e952c5"
      },
      "execution_count": 34,
      "outputs": [
        {
          "output_type": "stream",
          "name": "stderr",
          "text": [
            "/usr/local/lib/python3.10/dist-packages/sklearn/linear_model/_coordinate_descent.py:1568: DataConversionWarning: A column-vector y was passed when a 1d array was expected. Please change the shape of y to (n_samples, ), for example using ravel().\n",
            "  y = column_or_1d(y, warn=True)\n"
          ]
        },
        {
          "output_type": "execute_result",
          "data": {
            "text/plain": [
              "0.00795377668199548"
            ]
          },
          "metadata": {},
          "execution_count": 34
        }
      ]
    },
    {
      "cell_type": "code",
      "source": [
        "# MSE at the training dataset\n",
        "e_net=ElasticNet(alpha=model_cv2.alpha_)\n",
        "e_net.fit(X_train,y_train)\n",
        "pred=e_net.predict(X_train)\n",
        "print(mse(y_train,pred))"
      ],
      "metadata": {
        "colab": {
          "base_uri": "https://localhost:8080/"
        },
        "id": "DRe0KU6Qo2XK",
        "outputId": "2ab3f339-dcb1-44da-e8c5-5a4b3a3d0a14"
      },
      "execution_count": 36,
      "outputs": [
        {
          "output_type": "stream",
          "name": "stdout",
          "text": [
            "0.1504616162530777\n"
          ]
        }
      ]
    },
    {
      "cell_type": "code",
      "source": [
        "# MSE at the validation dataset\n",
        "e_net=ElasticNet(alpha=model_cv2.alpha_)\n",
        "e_net.fit(X_train,y_train)\n",
        "pred=e_net.predict(X_val)\n",
        "print(mse(y_val,pred))"
      ],
      "metadata": {
        "colab": {
          "base_uri": "https://localhost:8080/"
        },
        "id": "0vGy47vm60w2",
        "outputId": "ba7964e7-b2cb-4390-ab0b-f5a026b40434"
      },
      "execution_count": 35,
      "outputs": [
        {
          "output_type": "stream",
          "name": "stdout",
          "text": [
            "0.1555307063027035\n"
          ]
        }
      ]
    },
    {
      "cell_type": "code",
      "source": [
        "print('R squared training set', round(e_net.score(X_train, y_train)*100, 2))\n",
        "print('R squared test set', round(e_net.score(X_test, y_test)*100, 2))"
      ],
      "metadata": {
        "colab": {
          "base_uri": "https://localhost:8080/"
        },
        "id": "u8CM-k_A68nh",
        "outputId": "18463d20-f355-4b75-d07f-0feeb02016d1"
      },
      "execution_count": 38,
      "outputs": [
        {
          "output_type": "stream",
          "name": "stdout",
          "text": [
            "R squared training set 84.95\n",
            "R squared test set 84.59\n"
          ]
        }
      ]
    }
  ]
}